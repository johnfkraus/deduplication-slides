{
 "cells": [
  {
   "cell_type": "markdown",
   "metadata": {
    "slideshow": {
     "slide_type": "slide"
    }
   },
   "source": [
    "# 1 + 1 = 1 or Record Deduplication with Python\n",
    "Flávio Juvenal  \n",
    "[@flaviojuvenal](https://twitter.com/flaviojuvenal)  \n",
    "\n",
    "<p>\n",
    "    Partner at <a href=\"http://www.vinta.com.br?dedupe-slides=1\"><img class=\"vinta_logo\" style=\"display: inline-block; margin-left: 0;\" src=\"vinta.png\" width=300></a>\n",
    "</p>\n",
    "\n",
    "Check the other Vinta talks at: http://bit.ly/vinta-pygotham18"
   ]
  },
  {
   "cell_type": "code",
   "execution_count": 1,
   "metadata": {
    "slideshow": {
     "slide_type": "skip"
    }
   },
   "outputs": [],
   "source": [
    "import warnings; warnings.simplefilter('ignore')\n",
    "import logging; logging.disable(level=logging.INFO)"
   ]
  },
  {
   "cell_type": "markdown",
   "metadata": {
    "slideshow": {
     "slide_type": "slide"
    }
   },
   "source": [
    "<p style=\"font-size: 2em; text-weight: bold\">\n",
    "    Slides available at: <a href=\"http://bit.ly/pygotham-dup\">bit.ly/pygotham-dup</a>\n",
    "</p>\n",
    "<p>\n",
    "    Jupyter Notebook source at: <a href=\"https://github.com/vintasoftware/deduplication-slides/\">github.com/vintasoftware/deduplication-slides/</a>\n",
    "</p>"
   ]
  },
  {
   "cell_type": "markdown",
   "metadata": {
    "slideshow": {
     "slide_type": "slide"
    }
   },
   "source": [
    "## Real world data is a mess!\n",
    "Probably you dealt with data like this before:"
   ]
  },
  {
   "cell_type": "code",
   "execution_count": 2,
   "metadata": {
    "scrolled": false,
    "slideshow": {
     "slide_type": "skip"
    }
   },
   "outputs": [],
   "source": [
    "import pandas as pd\n",
    "\n",
    "data = [\n",
    "    (\"Art's Delicatessen\",\"12224 Ventura Blvd\",\"Studio City\"),\n",
    "    (\"Arts Deli\",\"12224 Ventura Blvd.\",\"LA\"),\n",
    "    (\"Art's Deli and Restaurant\",\"12224 Ventura Boulevard\",\"Los Angeles\"),\n",
    "    (\"Art's Delicatessen & Restaurant\",\"12220 Ventura Blvd.\",\"LA\"),\n",
    "    (\"Fringale\", \"570 4th St.\", \"San Francisco\"),\n",
    "    (\"Fringale Restaurant\", \"570 Fourth Street\", \"SF\"),\n",
    "]\n",
    "\n",
    "df = pd.DataFrame(data, columns=['restaurant', 'address', 'city'])"
   ]
  },
  {
   "cell_type": "code",
   "execution_count": 3,
   "metadata": {
    "slideshow": {
     "slide_type": "fragment"
    }
   },
   "outputs": [
    {
     "data": {
      "text/html": [
       "<div>\n",
       "<style scoped>\n",
       "    .dataframe tbody tr th:only-of-type {\n",
       "        vertical-align: middle;\n",
       "    }\n",
       "\n",
       "    .dataframe tbody tr th {\n",
       "        vertical-align: top;\n",
       "    }\n",
       "\n",
       "    .dataframe thead th {\n",
       "        text-align: right;\n",
       "    }\n",
       "</style>\n",
       "<table border=\"1\" class=\"dataframe\">\n",
       "  <thead>\n",
       "    <tr style=\"text-align: right;\">\n",
       "      <th></th>\n",
       "      <th>restaurant</th>\n",
       "      <th>address</th>\n",
       "      <th>city</th>\n",
       "    </tr>\n",
       "  </thead>\n",
       "  <tbody>\n",
       "    <tr>\n",
       "      <th>0</th>\n",
       "      <td>Art's Delicatessen</td>\n",
       "      <td>12224 Ventura Blvd</td>\n",
       "      <td>Studio City</td>\n",
       "    </tr>\n",
       "    <tr>\n",
       "      <th>1</th>\n",
       "      <td>Arts Deli</td>\n",
       "      <td>12224 Ventura Blvd.</td>\n",
       "      <td>LA</td>\n",
       "    </tr>\n",
       "    <tr>\n",
       "      <th>2</th>\n",
       "      <td>Art's Deli and Restaurant</td>\n",
       "      <td>12224 Ventura Boulevard</td>\n",
       "      <td>Los Angeles</td>\n",
       "    </tr>\n",
       "    <tr>\n",
       "      <th>3</th>\n",
       "      <td>Art's Delicatessen &amp; Restaurant</td>\n",
       "      <td>12220 Ventura Blvd.</td>\n",
       "      <td>LA</td>\n",
       "    </tr>\n",
       "    <tr>\n",
       "      <th>4</th>\n",
       "      <td>Fringale</td>\n",
       "      <td>570 4th St.</td>\n",
       "      <td>San Francisco</td>\n",
       "    </tr>\n",
       "    <tr>\n",
       "      <th>5</th>\n",
       "      <td>Fringale Restaurant</td>\n",
       "      <td>570 Fourth Street</td>\n",
       "      <td>SF</td>\n",
       "    </tr>\n",
       "  </tbody>\n",
       "</table>\n",
       "</div>"
      ],
      "text/plain": [
       "                        restaurant                  address           city\n",
       "0               Art's Delicatessen       12224 Ventura Blvd    Studio City\n",
       "1                        Arts Deli      12224 Ventura Blvd.             LA\n",
       "2        Art's Deli and Restaurant  12224 Ventura Boulevard    Los Angeles\n",
       "3  Art's Delicatessen & Restaurant      12220 Ventura Blvd.             LA\n",
       "4                         Fringale              570 4th St.  San Francisco\n",
       "5              Fringale Restaurant        570 Fourth Street             SF"
      ]
     },
     "execution_count": 3,
     "metadata": {},
     "output_type": "execute_result"
    }
   ],
   "source": [
    "df"
   ]
  },
  {
   "cell_type": "markdown",
   "metadata": {
    "slideshow": {
     "slide_type": "slide"
    }
   },
   "source": [
    "The solution is to perform **Deduplication** (aka [Record Linkage](https://en.wikipedia.org/wiki/Record_linkage)). It works by joining records in a **fuzzy way** using data like names, addresses, phone numbers, dates, etc."
   ]
  },
  {
   "cell_type": "markdown",
   "metadata": {
    "slideshow": {
     "slide_type": "slide"
    }
   },
   "source": [
    "## Fuzzy comparison of strings"
   ]
  },
  {
   "cell_type": "code",
   "execution_count": 4,
   "metadata": {
    "slideshow": {
     "slide_type": "skip"
    }
   },
   "outputs": [],
   "source": [
    "import jellyfish"
   ]
  },
  {
   "cell_type": "code",
   "execution_count": 5,
   "metadata": {
    "slideshow": {
     "slide_type": "fragment"
    }
   },
   "outputs": [
    {
     "data": {
      "text/plain": [
       "0.8833333333333334"
      ]
     },
     "execution_count": 5,
     "metadata": {},
     "output_type": "execute_result"
    }
   ],
   "source": [
    "jellyfish.jaro_winkler(\"Art's Delicatessen\", \"Arts Deli\")"
   ]
  },
  {
   "cell_type": "code",
   "execution_count": 6,
   "metadata": {
    "slideshow": {
     "slide_type": "fragment"
    }
   },
   "outputs": [
    {
     "data": {
      "text/plain": [
       "0.4583333333333333"
      ]
     },
     "execution_count": 6,
     "metadata": {},
     "output_type": "execute_result"
    }
   ],
   "source": [
    "jellyfish.jaro_winkler(\"Arts Deli\", \"Fringale\")"
   ]
  },
  {
   "cell_type": "markdown",
   "metadata": {
    "slideshow": {
     "slide_type": "slide"
    }
   },
   "source": [
    "## Fuzzy comparison of addresses"
   ]
  },
  {
   "cell_type": "markdown",
   "metadata": {
    "slideshow": {
     "slide_type": "fragment"
    }
   },
   "source": [
    "Geocoding street addresses, i.e., converting them to **latitude/longitude** is very useful for matching because geocoders can:\n",
    "- clean irrelevant address variations\n",
    "- enable the calculation of geometric distance using lat/lng"
   ]
  },
  {
   "cell_type": "code",
   "execution_count": 7,
   "metadata": {
    "slideshow": {
     "slide_type": "slide"
    }
   },
   "outputs": [],
   "source": [
    "import requests\n",
    "import geocoder\n",
    "\n",
    "full_addresses = [\n",
    "    \"20863 Stevens Creek Blvd., ste 330, 95015, CUPERTINO, CA, USA\",\n",
    "    \"20863 STEVENS CREEK Boulevard STE 330, 95014, Cupertio, CA, USA\",\n",
    "]\n",
    "\n",
    "full_addresses_latlng = []\n",
    "with requests.Session() as session:\n",
    "    for a in full_addresses:\n",
    "        a_geocoded = geocoder.google(a, session=session)\n",
    "        full_addresses_latlng.append((a_geocoded.latlng, a_geocoded.postal))\n",
    "\n",
    "address_latlng = list(zip(full_addresses, full_addresses_latlng))"
   ]
  },
  {
   "cell_type": "code",
   "execution_count": 8,
   "metadata": {
    "scrolled": true,
    "slideshow": {
     "slide_type": "slide"
    }
   },
   "outputs": [
    {
     "name": "stdout",
     "output_type": "stream",
     "text": [
      "[('20863 Stevens Creek Blvd., ste 330, 95015, CUPERTINO, CA, USA',\n",
      "  (None, None)),\n",
      " ('20863 STEVENS CREEK Boulevard STE 330, 95014, Cupertio, CA, USA',\n",
      "  (None, None))]\n"
     ]
    }
   ],
   "source": [
    "import pprint\n",
    "\n",
    "pprint.pprint(address_latlng)"
   ]
  },
  {
   "cell_type": "markdown",
   "metadata": {
    "slideshow": {
     "slide_type": "fragment"
    }
   },
   "source": [
    "Google geocoder is able to ignore the following variations:\n",
    "- Lower/upper case\n",
    "- Blvd. vs Boulevard\n",
    "- Zipcode 95015 vs 95014\n",
    "- Cupertino vs Cupertio"
   ]
  },
  {
   "cell_type": "markdown",
   "metadata": {
    "slideshow": {
     "slide_type": "slide"
    }
   },
   "source": [
    "## 0/4 - Preprocessing"
   ]
  },
  {
   "cell_type": "markdown",
   "metadata": {
    "slideshow": {
     "slide_type": "fragment"
    }
   },
   "source": [
    "Custom dataset based on [Restaurant](https://www.cs.utexas.edu/users/ml/riddle/data.html) dataset:\n",
    "- a well-known dataset used by researchers\n",
    "- made of 881 restaurant records from the Fodor's and Zagat's restaurant guides\n",
    "- contains 150 duplicates"
   ]
  },
  {
   "cell_type": "markdown",
   "metadata": {
    "slideshow": {
     "slide_type": "skip"
    }
   },
   "source": [
    "\\* We've introduced some changes that you can check by doing a `diff restaurant.original.csv restaurant.csv`"
   ]
  },
  {
   "cell_type": "code",
   "execution_count": 9,
   "metadata": {
    "slideshow": {
     "slide_type": "slide"
    }
   },
   "outputs": [
    {
     "data": {
      "text/html": [
       "<div>\n",
       "<style scoped>\n",
       "    .dataframe tbody tr th:only-of-type {\n",
       "        vertical-align: middle;\n",
       "    }\n",
       "\n",
       "    .dataframe tbody tr th {\n",
       "        vertical-align: top;\n",
       "    }\n",
       "\n",
       "    .dataframe thead th {\n",
       "        text-align: right;\n",
       "    }\n",
       "</style>\n",
       "<table border=\"1\" class=\"dataframe\">\n",
       "  <thead>\n",
       "    <tr style=\"text-align: right;\">\n",
       "      <th></th>\n",
       "      <th>name</th>\n",
       "      <th>addr</th>\n",
       "      <th>city</th>\n",
       "      <th>phone</th>\n",
       "      <th>type</th>\n",
       "      <th>cluster</th>\n",
       "    </tr>\n",
       "  </thead>\n",
       "  <tbody>\n",
       "    <tr>\n",
       "      <th>0</th>\n",
       "      <td>arnie morton's of chicago</td>\n",
       "      <td>435 s. la cienega blv.</td>\n",
       "      <td>los angeles</td>\n",
       "      <td>310/246-1501</td>\n",
       "      <td>american</td>\n",
       "      <td>0</td>\n",
       "    </tr>\n",
       "    <tr>\n",
       "      <th>1</th>\n",
       "      <td>arnie morton's of chicago</td>\n",
       "      <td>435 s. la cienega blvd.</td>\n",
       "      <td>los angeles</td>\n",
       "      <td>310-246-1501</td>\n",
       "      <td>steakhouses</td>\n",
       "      <td>0</td>\n",
       "    </tr>\n",
       "    <tr>\n",
       "      <th>2</th>\n",
       "      <td>arnie morton</td>\n",
       "      <td>435 s. la cienega boulevard</td>\n",
       "      <td>los angeles</td>\n",
       "      <td>310-246-1501</td>\n",
       "      <td>steakhouses</td>\n",
       "      <td>0</td>\n",
       "    </tr>\n",
       "    <tr>\n",
       "      <th>3</th>\n",
       "      <td>art's delicatessen</td>\n",
       "      <td>12224 ventura blvd.</td>\n",
       "      <td>studio city</td>\n",
       "      <td>818/762-1221</td>\n",
       "      <td>american</td>\n",
       "      <td>1</td>\n",
       "    </tr>\n",
       "    <tr>\n",
       "      <th>4</th>\n",
       "      <td>art's deli</td>\n",
       "      <td>12224 ventura blvd.</td>\n",
       "      <td>studio city</td>\n",
       "      <td>818-762-1221</td>\n",
       "      <td>delis</td>\n",
       "      <td>1</td>\n",
       "    </tr>\n",
       "    <tr>\n",
       "      <th>5</th>\n",
       "      <td>art's deli</td>\n",
       "      <td>12224 ventura blvd.</td>\n",
       "      <td>los angeles</td>\n",
       "      <td>818-762-1221</td>\n",
       "      <td>delis</td>\n",
       "      <td>1</td>\n",
       "    </tr>\n",
       "    <tr>\n",
       "      <th>6</th>\n",
       "      <td>hotel bel-air</td>\n",
       "      <td>701 stone canyon rd.</td>\n",
       "      <td>bel air</td>\n",
       "      <td>310/472-1211</td>\n",
       "      <td>californian</td>\n",
       "      <td>2</td>\n",
       "    </tr>\n",
       "    <tr>\n",
       "      <th>7</th>\n",
       "      <td>bel-air hotel</td>\n",
       "      <td>701 stone canyon rd.</td>\n",
       "      <td>bel air</td>\n",
       "      <td>310-472-1211</td>\n",
       "      <td>californian</td>\n",
       "      <td>2</td>\n",
       "    </tr>\n",
       "    <tr>\n",
       "      <th>8</th>\n",
       "      <td>bel-air</td>\n",
       "      <td>701 stone canyon road</td>\n",
       "      <td>bel air</td>\n",
       "      <td>(310) 472-1211</td>\n",
       "      <td>american</td>\n",
       "      <td>2</td>\n",
       "    </tr>\n",
       "  </tbody>\n",
       "</table>\n",
       "</div>"
      ],
      "text/plain": [
       "                        name                         addr         city  \\\n",
       "0  arnie morton's of chicago       435 s. la cienega blv.  los angeles   \n",
       "1  arnie morton's of chicago      435 s. la cienega blvd.  los angeles   \n",
       "2               arnie morton  435 s. la cienega boulevard  los angeles   \n",
       "3         art's delicatessen          12224 ventura blvd.  studio city   \n",
       "4                 art's deli          12224 ventura blvd.  studio city   \n",
       "5                 art's deli          12224 ventura blvd.  los angeles   \n",
       "6              hotel bel-air         701 stone canyon rd.      bel air   \n",
       "7              bel-air hotel         701 stone canyon rd.      bel air   \n",
       "8                    bel-air        701 stone canyon road      bel air   \n",
       "\n",
       "            phone         type  cluster  \n",
       "0    310/246-1501     american        0  \n",
       "1    310-246-1501  steakhouses        0  \n",
       "2    310-246-1501  steakhouses        0  \n",
       "3    818/762-1221     american        1  \n",
       "4    818-762-1221        delis        1  \n",
       "5    818-762-1221        delis        1  \n",
       "6    310/472-1211  californian        2  \n",
       "7    310-472-1211  californian        2  \n",
       "8  (310) 472-1211     american        2  "
      ]
     },
     "execution_count": 9,
     "metadata": {},
     "output_type": "execute_result"
    }
   ],
   "source": [
    "df_with_truth = pd.read_csv('restaurant.csv', skip_blank_lines=True)\n",
    "df_with_truth.head(9)"
   ]
  },
  {
   "cell_type": "markdown",
   "metadata": {
    "slideshow": {
     "slide_type": "fragment"
    }
   },
   "source": [
    "The dataset comes with the true matches indicated by the `cluster` column."
   ]
  },
  {
   "cell_type": "markdown",
   "metadata": {
    "slideshow": {
     "slide_type": "slide"
    }
   },
   "source": [
    "We'll also remove the `phone` and `type` to makes things more difficult:"
   ]
  },
  {
   "cell_type": "code",
   "execution_count": 10,
   "metadata": {
    "slideshow": {
     "slide_type": "fragment"
    }
   },
   "outputs": [
    {
     "data": {
      "text/html": [
       "<div>\n",
       "<style scoped>\n",
       "    .dataframe tbody tr th:only-of-type {\n",
       "        vertical-align: middle;\n",
       "    }\n",
       "\n",
       "    .dataframe tbody tr th {\n",
       "        vertical-align: top;\n",
       "    }\n",
       "\n",
       "    .dataframe thead th {\n",
       "        text-align: right;\n",
       "    }\n",
       "</style>\n",
       "<table border=\"1\" class=\"dataframe\">\n",
       "  <thead>\n",
       "    <tr style=\"text-align: right;\">\n",
       "      <th></th>\n",
       "      <th>name</th>\n",
       "      <th>addr</th>\n",
       "      <th>city</th>\n",
       "    </tr>\n",
       "  </thead>\n",
       "  <tbody>\n",
       "    <tr>\n",
       "      <th>0</th>\n",
       "      <td>arnie morton's of chicago</td>\n",
       "      <td>435 s. la cienega blv.</td>\n",
       "      <td>los angeles</td>\n",
       "    </tr>\n",
       "    <tr>\n",
       "      <th>1</th>\n",
       "      <td>arnie morton's of chicago</td>\n",
       "      <td>435 s. la cienega blvd.</td>\n",
       "      <td>los angeles</td>\n",
       "    </tr>\n",
       "    <tr>\n",
       "      <th>2</th>\n",
       "      <td>arnie morton</td>\n",
       "      <td>435 s. la cienega boulevard</td>\n",
       "      <td>los angeles</td>\n",
       "    </tr>\n",
       "    <tr>\n",
       "      <th>3</th>\n",
       "      <td>art's delicatessen</td>\n",
       "      <td>12224 ventura blvd.</td>\n",
       "      <td>studio city</td>\n",
       "    </tr>\n",
       "    <tr>\n",
       "      <th>4</th>\n",
       "      <td>art's deli</td>\n",
       "      <td>12224 ventura blvd.</td>\n",
       "      <td>studio city</td>\n",
       "    </tr>\n",
       "    <tr>\n",
       "      <th>5</th>\n",
       "      <td>art's deli</td>\n",
       "      <td>12224 ventura blvd.</td>\n",
       "      <td>los angeles</td>\n",
       "    </tr>\n",
       "    <tr>\n",
       "      <th>6</th>\n",
       "      <td>hotel bel-air</td>\n",
       "      <td>701 stone canyon rd.</td>\n",
       "      <td>bel air</td>\n",
       "    </tr>\n",
       "    <tr>\n",
       "      <th>7</th>\n",
       "      <td>bel-air hotel</td>\n",
       "      <td>701 stone canyon rd.</td>\n",
       "      <td>bel air</td>\n",
       "    </tr>\n",
       "    <tr>\n",
       "      <th>8</th>\n",
       "      <td>bel-air</td>\n",
       "      <td>701 stone canyon road</td>\n",
       "      <td>bel air</td>\n",
       "    </tr>\n",
       "  </tbody>\n",
       "</table>\n",
       "</div>"
      ],
      "text/plain": [
       "                        name                         addr         city\n",
       "0  arnie morton's of chicago       435 s. la cienega blv.  los angeles\n",
       "1  arnie morton's of chicago      435 s. la cienega blvd.  los angeles\n",
       "2               arnie morton  435 s. la cienega boulevard  los angeles\n",
       "3         art's delicatessen          12224 ventura blvd.  studio city\n",
       "4                 art's deli          12224 ventura blvd.  studio city\n",
       "5                 art's deli          12224 ventura blvd.  los angeles\n",
       "6              hotel bel-air         701 stone canyon rd.      bel air\n",
       "7              bel-air hotel         701 stone canyon rd.      bel air\n",
       "8                    bel-air        701 stone canyon road      bel air"
      ]
     },
     "execution_count": 10,
     "metadata": {},
     "output_type": "execute_result"
    }
   ],
   "source": [
    "df = df_with_truth.drop(columns=['cluster', 'phone', 'type'])\n",
    "df.head(9)"
   ]
  },
  {
   "cell_type": "markdown",
   "metadata": {
    "slideshow": {
     "slide_type": "slide"
    }
   },
   "source": [
    "Now we'll clean the column values! Cleaning `name`:"
   ]
  },
  {
   "cell_type": "code",
   "execution_count": 11,
   "metadata": {
    "scrolled": true,
    "slideshow": {
     "slide_type": "fragment"
    }
   },
   "outputs": [
    {
     "data": {
      "text/html": [
       "<div>\n",
       "<style scoped>\n",
       "    .dataframe tbody tr th:only-of-type {\n",
       "        vertical-align: middle;\n",
       "    }\n",
       "\n",
       "    .dataframe tbody tr th {\n",
       "        vertical-align: top;\n",
       "    }\n",
       "\n",
       "    .dataframe thead th {\n",
       "        text-align: right;\n",
       "    }\n",
       "</style>\n",
       "<table border=\"1\" class=\"dataframe\">\n",
       "  <thead>\n",
       "    <tr style=\"text-align: right;\">\n",
       "      <th></th>\n",
       "      <th>name</th>\n",
       "      <th>addr</th>\n",
       "      <th>city</th>\n",
       "    </tr>\n",
       "  </thead>\n",
       "  <tbody>\n",
       "    <tr>\n",
       "      <th>0</th>\n",
       "      <td>arnie morton s of chicago</td>\n",
       "      <td>435 s. la cienega blv.</td>\n",
       "      <td>los angeles</td>\n",
       "    </tr>\n",
       "    <tr>\n",
       "      <th>1</th>\n",
       "      <td>arnie morton s of chicago</td>\n",
       "      <td>435 s. la cienega blvd.</td>\n",
       "      <td>los angeles</td>\n",
       "    </tr>\n",
       "    <tr>\n",
       "      <th>2</th>\n",
       "      <td>arnie morton</td>\n",
       "      <td>435 s. la cienega boulevard</td>\n",
       "      <td>los angeles</td>\n",
       "    </tr>\n",
       "    <tr>\n",
       "      <th>3</th>\n",
       "      <td>art s delicatessen</td>\n",
       "      <td>12224 ventura blvd.</td>\n",
       "      <td>studio city</td>\n",
       "    </tr>\n",
       "    <tr>\n",
       "      <th>4</th>\n",
       "      <td>art s deli</td>\n",
       "      <td>12224 ventura blvd.</td>\n",
       "      <td>studio city</td>\n",
       "    </tr>\n",
       "    <tr>\n",
       "      <th>5</th>\n",
       "      <td>art s deli</td>\n",
       "      <td>12224 ventura blvd.</td>\n",
       "      <td>los angeles</td>\n",
       "    </tr>\n",
       "    <tr>\n",
       "      <th>6</th>\n",
       "      <td>hotel bel air</td>\n",
       "      <td>701 stone canyon rd.</td>\n",
       "      <td>bel air</td>\n",
       "    </tr>\n",
       "    <tr>\n",
       "      <th>7</th>\n",
       "      <td>bel air hotel</td>\n",
       "      <td>701 stone canyon rd.</td>\n",
       "      <td>bel air</td>\n",
       "    </tr>\n",
       "    <tr>\n",
       "      <th>8</th>\n",
       "      <td>bel air</td>\n",
       "      <td>701 stone canyon road</td>\n",
       "      <td>bel air</td>\n",
       "    </tr>\n",
       "  </tbody>\n",
       "</table>\n",
       "</div>"
      ],
      "text/plain": [
       "                        name                         addr         city\n",
       "0  arnie morton s of chicago       435 s. la cienega blv.  los angeles\n",
       "1  arnie morton s of chicago      435 s. la cienega blvd.  los angeles\n",
       "2               arnie morton  435 s. la cienega boulevard  los angeles\n",
       "3         art s delicatessen          12224 ventura blvd.  studio city\n",
       "4                 art s deli          12224 ventura blvd.  studio city\n",
       "5                 art s deli          12224 ventura blvd.  los angeles\n",
       "6              hotel bel air         701 stone canyon rd.      bel air\n",
       "7              bel air hotel         701 stone canyon rd.      bel air\n",
       "8                    bel air        701 stone canyon road      bel air"
      ]
     },
     "execution_count": 11,
     "metadata": {},
     "output_type": "execute_result"
    }
   ],
   "source": [
    "import re\n",
    "\n",
    "irrelevant_regex = re.compile(r'[^a-z0-9\\s]')\n",
    "multispace_regex = re.compile(r'\\s\\s+')\n",
    "\n",
    "def assign_no_symbols_name(df):\n",
    "    return df.assign(\n",
    "        name=df['name']\n",
    "             .str.replace(irrelevant_regex, ' ')\n",
    "             .str.replace(multispace_regex, ' '))\n",
    "\n",
    "df = assign_no_symbols_name(df)\n",
    "df.head(9)"
   ]
  },
  {
   "cell_type": "markdown",
   "metadata": {
    "slideshow": {
     "slide_type": "slide"
    }
   },
   "source": [
    "Geocoding `addr`:"
   ]
  },
  {
   "cell_type": "code",
   "execution_count": 12,
   "metadata": {
    "slideshow": {
     "slide_type": "skip"
    }
   },
   "outputs": [
    {
     "name": "stdout",
     "output_type": "stream",
     "text": [
      "881 819\n"
     ]
    }
   ],
   "source": [
    "import numpy as np\n",
    "\n",
    "all_addresses = df['addr'].str.cat(df['city'], sep=', ').values\n",
    "unique_addresses = np.unique(all_addresses)\n",
    "print(len(all_addresses), len(unique_addresses))"
   ]
  },
  {
   "cell_type": "code",
   "execution_count": 13,
   "metadata": {
    "slideshow": {
     "slide_type": "skip"
    }
   },
   "outputs": [
    {
     "name": "stdout",
     "output_type": "stream",
     "text": [
      "Geocoding 1/1\n",
      "Failed to get postal from 11\n",
      "Failed to get latlng from 1\n"
     ]
    }
   ],
   "source": [
    "import os.path\n",
    "import json\n",
    "\n",
    "geocoding_filename = 'address_to_geocoding.json'\n",
    "\n",
    "def geocode_addresses(address_to_geocoding):\n",
    "    remaining_addresses = (\n",
    "        set(unique_addresses) -\n",
    "        set(k for k, v in address_to_geocoding.items() if v is not None and 'lat' in v))\n",
    "\n",
    "    with requests.Session() as session:\n",
    "        for i, address in enumerate(remaining_addresses):\n",
    "            print(f\"Geocoding {i + 1}/{len(remaining_addresses)}\")\n",
    "            geocode_result = geocoder.google(address, session=session)\n",
    "            address_to_geocoding[address] = geocode_result.json\n",
    "\n",
    "        with open(geocoding_filename, 'w') as f:\n",
    "            json.dump(address_to_geocoding, f, indent=4)\n",
    "\n",
    "if not os.path.exists(geocoding_filename):\n",
    "    address_to_geocoding = {}\n",
    "    geocode_addresses(address_to_geocoding)\n",
    "else:\n",
    "    with open(geocoding_filename) as f:\n",
    "        address_to_geocoding = json.load(f)\n",
    "    geocode_addresses(address_to_geocoding)\n",
    " \n",
    "address_to_postal = {\n",
    "    k: v['postal']\n",
    "    for k, v in address_to_geocoding.items()\n",
    "    if v is not None and 'postal' in v\n",
    "}\n",
    "address_to_latlng = {\n",
    "    k: (v['lat'], v['lng'])\n",
    "    for k, v in address_to_geocoding.items()\n",
    "    if v is not None\n",
    "}\n",
    "print(f\"Failed to get postal from {len(address_to_geocoding) - len(address_to_postal)}\")\n",
    "print(f\"Failed to get latlng from {len(address_to_geocoding) - len(address_to_latlng)}\")"
   ]
  },
  {
   "cell_type": "code",
   "execution_count": 14,
   "metadata": {
    "scrolled": false,
    "slideshow": {
     "slide_type": "slide"
    }
   },
   "outputs": [
    {
     "data": {
      "text/html": [
       "<div>\n",
       "<style scoped>\n",
       "    .dataframe tbody tr th:only-of-type {\n",
       "        vertical-align: middle;\n",
       "    }\n",
       "\n",
       "    .dataframe tbody tr th {\n",
       "        vertical-align: top;\n",
       "    }\n",
       "\n",
       "    .dataframe thead th {\n",
       "        text-align: right;\n",
       "    }\n",
       "</style>\n",
       "<table border=\"1\" class=\"dataframe\">\n",
       "  <thead>\n",
       "    <tr style=\"text-align: right;\">\n",
       "      <th></th>\n",
       "      <th>name</th>\n",
       "      <th>addr</th>\n",
       "      <th>city</th>\n",
       "      <th>postal</th>\n",
       "      <th>lat</th>\n",
       "      <th>lng</th>\n",
       "    </tr>\n",
       "  </thead>\n",
       "  <tbody>\n",
       "    <tr>\n",
       "      <th>0</th>\n",
       "      <td>arnie morton s of chicago</td>\n",
       "      <td>435 s. la cienega blv.</td>\n",
       "      <td>los angeles</td>\n",
       "      <td>90048</td>\n",
       "      <td>34.070708</td>\n",
       "      <td>-118.376563</td>\n",
       "    </tr>\n",
       "    <tr>\n",
       "      <th>1</th>\n",
       "      <td>arnie morton s of chicago</td>\n",
       "      <td>435 s. la cienega blvd.</td>\n",
       "      <td>los angeles</td>\n",
       "      <td>90048</td>\n",
       "      <td>34.070708</td>\n",
       "      <td>-118.376563</td>\n",
       "    </tr>\n",
       "    <tr>\n",
       "      <th>2</th>\n",
       "      <td>arnie morton</td>\n",
       "      <td>435 s. la cienega boulevard</td>\n",
       "      <td>los angeles</td>\n",
       "      <td>90048</td>\n",
       "      <td>34.070708</td>\n",
       "      <td>-118.376563</td>\n",
       "    </tr>\n",
       "    <tr>\n",
       "      <th>3</th>\n",
       "      <td>art s delicatessen</td>\n",
       "      <td>12224 ventura blvd.</td>\n",
       "      <td>studio city</td>\n",
       "      <td>91604</td>\n",
       "      <td>34.142963</td>\n",
       "      <td>-118.399465</td>\n",
       "    </tr>\n",
       "    <tr>\n",
       "      <th>4</th>\n",
       "      <td>art s deli</td>\n",
       "      <td>12224 ventura blvd.</td>\n",
       "      <td>studio city</td>\n",
       "      <td>91604</td>\n",
       "      <td>34.142963</td>\n",
       "      <td>-118.399465</td>\n",
       "    </tr>\n",
       "    <tr>\n",
       "      <th>5</th>\n",
       "      <td>art s deli</td>\n",
       "      <td>12224 ventura blvd.</td>\n",
       "      <td>los angeles</td>\n",
       "      <td>91604</td>\n",
       "      <td>34.142963</td>\n",
       "      <td>-118.399465</td>\n",
       "    </tr>\n",
       "  </tbody>\n",
       "</table>\n",
       "</div>"
      ],
      "text/plain": [
       "                        name                         addr         city postal  \\\n",
       "0  arnie morton s of chicago       435 s. la cienega blv.  los angeles  90048   \n",
       "1  arnie morton s of chicago      435 s. la cienega blvd.  los angeles  90048   \n",
       "2               arnie morton  435 s. la cienega boulevard  los angeles  90048   \n",
       "3         art s delicatessen          12224 ventura blvd.  studio city  91604   \n",
       "4                 art s deli          12224 ventura blvd.  studio city  91604   \n",
       "5                 art s deli          12224 ventura blvd.  los angeles  91604   \n",
       "\n",
       "         lat         lng  \n",
       "0  34.070708 -118.376563  \n",
       "1  34.070708 -118.376563  \n",
       "2  34.070708 -118.376563  \n",
       "3  34.142963 -118.399465  \n",
       "4  34.142963 -118.399465  \n",
       "5  34.142963 -118.399465  "
      ]
     },
     "execution_count": 14,
     "metadata": {},
     "output_type": "execute_result"
    }
   ],
   "source": [
    "def assign_postal_lat_lng(df):\n",
    "    addresses = df['addr'].str.cat(df['city'], sep=', ')\n",
    "    addresses_to_postal = [address_to_postal.get(a) for a in addresses]\n",
    "    addresses_to_lat = [address_to_latlng[a][0] if a in address_to_latlng else None for a in addresses]\n",
    "    addresses_to_lng = [address_to_latlng[a][1] if a in address_to_latlng else None for a in addresses]\n",
    "\n",
    "    return df.assign(postal=addresses_to_postal, lat=addresses_to_lat, lng=addresses_to_lng)\n",
    "\n",
    "df = assign_postal_lat_lng(df)\n",
    "df.head(6)"
   ]
  },
  {
   "cell_type": "markdown",
   "metadata": {
    "slideshow": {
     "slide_type": "slide"
    }
   },
   "source": [
    "## 1/4 - Indexing"
   ]
  },
  {
   "cell_type": "markdown",
   "metadata": {
    "slideshow": {
     "slide_type": "slide"
    }
   },
   "source": [
    "For the next steps, we'll use the library **recordlinkage**, aka **[Python Record Linkage Toolkit](http://recordlinkage.readthedocs.io/en/stable/)**."
   ]
  },
  {
   "cell_type": "markdown",
   "metadata": {
    "slideshow": {
     "slide_type": "slide"
    }
   },
   "source": [
    "We have the cleaned records, now we want the **pairs** to compare to find matches.\n",
    "\n",
    "To **produce** the pairs, we could do a \"full\" index, i.e., all records against all records:"
   ]
  },
  {
   "cell_type": "code",
   "execution_count": 15,
   "metadata": {
    "slideshow": {
     "slide_type": "fragment"
    }
   },
   "outputs": [
    {
     "name": "stdout",
     "output_type": "stream",
     "text": [
      "WARNING:recordlinkage:indexing - performance warning - A full index can result in large number of record pairs.\n",
      "Full index: 881 records, 387640 pairs\n"
     ]
    }
   ],
   "source": [
    "import recordlinkage as rl\n",
    "from recordlinkage.index import Full\n",
    "\n",
    "full_indexer = Full()\n",
    "pairs = full_indexer.index(df)\n",
    "\n",
    "print(f\"Full index: {len(df)} records, {len(pairs)} pairs\")"
   ]
  },
  {
   "cell_type": "markdown",
   "metadata": {
    "slideshow": {
     "slide_type": "slide"
    }
   },
   "source": [
    "The number of pairs grows too fast as the number of records grows:  \n",
    "it **grows quadratically** with the formula `len(df) * (len(df) - 1) / 2`\n",
    "\n",
    "To avoid wasting too much time, we need **indexing**. We need to produce only pairs that are good candidates of being duplicates."
   ]
  },
  {
   "cell_type": "markdown",
   "metadata": {
    "slideshow": {
     "slide_type": "slide"
    }
   },
   "source": [
    "A basic way to index is **blocking**: produce pairs that have **some value in common**.\n",
    "\n",
    "Below we compute pairs that have **equal values for postal** code:"
   ]
  },
  {
   "cell_type": "code",
   "execution_count": 16,
   "metadata": {
    "slideshow": {
     "slide_type": "fragment"
    }
   },
   "outputs": [
    {
     "name": "stdout",
     "output_type": "stream",
     "text": [
      "Postal index: 6462 pairs\n"
     ]
    }
   ],
   "source": [
    "from recordlinkage.index import Block\n",
    "\n",
    "postal_indexer = Block('postal')\n",
    "pairs = postal_indexer.index(df)\n",
    "\n",
    "print(f\"Postal index: {len(pairs)} pairs\")"
   ]
  },
  {
   "cell_type": "code",
   "execution_count": 17,
   "metadata": {
    "slideshow": {
     "slide_type": "skip"
    }
   },
   "outputs": [],
   "source": [
    "# We'll swap the levels of pairs MultiIndex returned by recordlinkage\n",
    "# to make it simpler to interpret. Here we get the upper triangle of the pairs matrix.\n",
    "pairs = pairs.swaplevel().sortlevel()[0]"
   ]
  },
  {
   "cell_type": "code",
   "execution_count": 18,
   "metadata": {
    "slideshow": {
     "slide_type": "slide"
    }
   },
   "outputs": [
    {
     "data": {
      "text/plain": [
       "array([[  0,   1],\n",
       "       [  0,   2],\n",
       "       [  0,  32],\n",
       "       [  0,  33],\n",
       "       [  0,  35],\n",
       "       [  0,  36],\n",
       "       [  0, 262],\n",
       "       [  0, 266],\n",
       "       [  0, 273],\n",
       "       [  0, 293]])"
      ]
     },
     "execution_count": 18,
     "metadata": {},
     "output_type": "execute_result"
    }
   ],
   "source": [
    "pairs.to_frame()[:10].values"
   ]
  },
  {
   "cell_type": "markdown",
   "metadata": {
    "slideshow": {
     "slide_type": "slide"
    }
   },
   "source": [
    "## 2/4 - Comparison"
   ]
  },
  {
   "cell_type": "markdown",
   "metadata": {
    "slideshow": {
     "slide_type": "slide"
    }
   },
   "source": [
    "Now we want to run comparisons on the indexed pairs to produce **a comparison vector for each pair**. For example:"
   ]
  },
  {
   "cell_type": "code",
   "execution_count": 19,
   "metadata": {
    "slideshow": {
     "slide_type": "fragment"
    }
   },
   "outputs": [
    {
     "data": {
      "text/html": [
       "<div>\n",
       "<style scoped>\n",
       "    .dataframe tbody tr th:only-of-type {\n",
       "        vertical-align: middle;\n",
       "    }\n",
       "\n",
       "    .dataframe tbody tr th {\n",
       "        vertical-align: top;\n",
       "    }\n",
       "\n",
       "    .dataframe thead th {\n",
       "        text-align: right;\n",
       "    }\n",
       "</style>\n",
       "<table border=\"1\" class=\"dataframe\">\n",
       "  <thead>\n",
       "    <tr style=\"text-align: right;\">\n",
       "      <th></th>\n",
       "      <th></th>\n",
       "      <th>name</th>\n",
       "      <th>addr</th>\n",
       "      <th>postal</th>\n",
       "      <th>latlng</th>\n",
       "    </tr>\n",
       "  </thead>\n",
       "  <tbody>\n",
       "    <tr>\n",
       "      <th>100</th>\n",
       "      <th>200</th>\n",
       "      <td>0.5</td>\n",
       "      <td>0.8</td>\n",
       "      <td>0.9</td>\n",
       "      <td>1</td>\n",
       "    </tr>\n",
       "  </tbody>\n",
       "</table>\n",
       "</div>"
      ],
      "text/plain": [
       "         name  addr  postal  latlng\n",
       "100 200   0.5   0.8     0.9       1"
      ]
     },
     "execution_count": 19,
     "metadata": {},
     "output_type": "execute_result"
    }
   ],
   "source": [
    "pd.DataFrame([[0.5, 0.8, 0.9, 1]],\n",
    "             columns=['name', 'addr', 'postal', 'latlng'],\n",
    "             index=pd.MultiIndex.from_arrays([[100], [200]]))"
   ]
  },
  {
   "cell_type": "markdown",
   "metadata": {
    "slideshow": {
     "slide_type": "fragment"
    }
   },
   "source": [
    "The pair of records `(100, 200)` has:\n",
    "- Low similarity on `name`s\n",
    "- Some similarity on `addr`s\n",
    "- High similarity on `postal`s\n",
    "- Equal `latlng`s"
   ]
  },
  {
   "cell_type": "markdown",
   "metadata": {
    "slideshow": {
     "slide_type": "slide"
    }
   },
   "source": [
    "To compute the comparison vectors, we define a **similarity function** for each column:"
   ]
  },
  {
   "cell_type": "code",
   "execution_count": 20,
   "metadata": {
    "slideshow": {
     "slide_type": "fragment"
    }
   },
   "outputs": [],
   "source": [
    "comp = rl.Compare()\n",
    "comp.string('name', 'name', method='jarowinkler', label='name')\n",
    "comp.string('addr', 'addr', method='jarowinkler', label='addr')\n",
    "comp.string('postal', 'postal', method='jarowinkler', label='postal')\n",
    "comp.geo('lat', 'lng', 'lat', 'lng', method='exp', scale=0.1, offset=0.01, label='latlng');"
   ]
  },
  {
   "cell_type": "markdown",
   "metadata": {
    "slideshow": {
     "slide_type": "slide"
    }
   },
   "source": [
    "Now we'll compute the **comparison vectors**:"
   ]
  },
  {
   "cell_type": "code",
   "execution_count": 21,
   "metadata": {
    "slideshow": {
     "slide_type": "fragment"
    }
   },
   "outputs": [
    {
     "data": {
      "text/html": [
       "<div>\n",
       "<style scoped>\n",
       "    .dataframe tbody tr th:only-of-type {\n",
       "        vertical-align: middle;\n",
       "    }\n",
       "\n",
       "    .dataframe tbody tr th {\n",
       "        vertical-align: top;\n",
       "    }\n",
       "\n",
       "    .dataframe thead th {\n",
       "        text-align: right;\n",
       "    }\n",
       "</style>\n",
       "<table border=\"1\" class=\"dataframe\">\n",
       "  <thead>\n",
       "    <tr style=\"text-align: right;\">\n",
       "      <th></th>\n",
       "      <th></th>\n",
       "      <th>name</th>\n",
       "      <th>addr</th>\n",
       "      <th>postal</th>\n",
       "      <th>latlng</th>\n",
       "    </tr>\n",
       "  </thead>\n",
       "  <tbody>\n",
       "    <tr>\n",
       "      <th rowspan=\"5\" valign=\"top\">0</th>\n",
       "      <th>1</th>\n",
       "      <td>1.000000</td>\n",
       "      <td>0.985507</td>\n",
       "      <td>1.0</td>\n",
       "      <td>1.000000</td>\n",
       "    </tr>\n",
       "    <tr>\n",
       "      <th>2</th>\n",
       "      <td>0.896000</td>\n",
       "      <td>0.910774</td>\n",
       "      <td>1.0</td>\n",
       "      <td>1.000000</td>\n",
       "    </tr>\n",
       "    <tr>\n",
       "      <th>32</th>\n",
       "      <td>0.520128</td>\n",
       "      <td>0.580927</td>\n",
       "      <td>1.0</td>\n",
       "      <td>0.000025</td>\n",
       "    </tr>\n",
       "    <tr>\n",
       "      <th>33</th>\n",
       "      <td>0.556630</td>\n",
       "      <td>0.580927</td>\n",
       "      <td>1.0</td>\n",
       "      <td>0.000025</td>\n",
       "    </tr>\n",
       "    <tr>\n",
       "      <th>35</th>\n",
       "      <td>0.505476</td>\n",
       "      <td>0.528075</td>\n",
       "      <td>1.0</td>\n",
       "      <td>0.030131</td>\n",
       "    </tr>\n",
       "  </tbody>\n",
       "</table>\n",
       "</div>"
      ],
      "text/plain": [
       "          name      addr  postal    latlng\n",
       "0 1   1.000000  0.985507     1.0  1.000000\n",
       "  2   0.896000  0.910774     1.0  1.000000\n",
       "  32  0.520128  0.580927     1.0  0.000025\n",
       "  33  0.556630  0.580927     1.0  0.000025\n",
       "  35  0.505476  0.528075     1.0  0.030131"
      ]
     },
     "execution_count": 21,
     "metadata": {},
     "output_type": "execute_result"
    }
   ],
   "source": [
    "comparison_vectors = comp.compute(pairs, df)\n",
    "comparison_vectors.head(5)"
   ]
  },
  {
   "cell_type": "markdown",
   "metadata": {
    "slideshow": {
     "slide_type": "slide"
    }
   },
   "source": [
    "Now, with our comparison vectors, we'll explore **different ways** to classify them as matches and nonmatches."
   ]
  },
  {
   "cell_type": "markdown",
   "metadata": {
    "slideshow": {
     "slide_type": "slide"
    }
   },
   "source": [
    "## 3/4 - Classification"
   ]
  },
  {
   "cell_type": "markdown",
   "metadata": {
    "slideshow": {
     "slide_type": "slide"
    }
   },
   "source": [
    "### Threshold-Based Classification"
   ]
  },
  {
   "cell_type": "markdown",
   "metadata": {
    "slideshow": {
     "slide_type": "slide"
    }
   },
   "source": [
    "A simple way to classify comparison vectors as matches or nonmatches is to compute a **weighted average** over the vectors to get a **score**:"
   ]
  },
  {
   "cell_type": "code",
   "execution_count": 22,
   "metadata": {
    "slideshow": {
     "slide_type": "fragment"
    }
   },
   "outputs": [
    {
     "data": {
      "text/html": [
       "<div>\n",
       "<style scoped>\n",
       "    .dataframe tbody tr th:only-of-type {\n",
       "        vertical-align: middle;\n",
       "    }\n",
       "\n",
       "    .dataframe tbody tr th {\n",
       "        vertical-align: top;\n",
       "    }\n",
       "\n",
       "    .dataframe thead th {\n",
       "        text-align: right;\n",
       "    }\n",
       "</style>\n",
       "<table border=\"1\" class=\"dataframe\">\n",
       "  <thead>\n",
       "    <tr style=\"text-align: right;\">\n",
       "      <th></th>\n",
       "      <th></th>\n",
       "      <th>name</th>\n",
       "      <th>addr</th>\n",
       "      <th>postal</th>\n",
       "      <th>latlng</th>\n",
       "      <th>score</th>\n",
       "    </tr>\n",
       "  </thead>\n",
       "  <tbody>\n",
       "    <tr>\n",
       "      <th rowspan=\"5\" valign=\"top\">0</th>\n",
       "      <th>1</th>\n",
       "      <td>1.000000</td>\n",
       "      <td>0.985507</td>\n",
       "      <td>1.0</td>\n",
       "      <td>1.000000</td>\n",
       "      <td>0.996047</td>\n",
       "    </tr>\n",
       "    <tr>\n",
       "      <th>2</th>\n",
       "      <td>0.896000</td>\n",
       "      <td>0.910774</td>\n",
       "      <td>1.0</td>\n",
       "      <td>1.000000</td>\n",
       "      <td>0.928393</td>\n",
       "    </tr>\n",
       "    <tr>\n",
       "      <th>32</th>\n",
       "      <td>0.520128</td>\n",
       "      <td>0.580927</td>\n",
       "      <td>1.0</td>\n",
       "      <td>0.000025</td>\n",
       "      <td>0.485770</td>\n",
       "    </tr>\n",
       "    <tr>\n",
       "      <th>33</th>\n",
       "      <td>0.556630</td>\n",
       "      <td>0.580927</td>\n",
       "      <td>1.0</td>\n",
       "      <td>0.000025</td>\n",
       "      <td>0.502362</td>\n",
       "    </tr>\n",
       "    <tr>\n",
       "      <th>35</th>\n",
       "      <td>0.505476</td>\n",
       "      <td>0.528075</td>\n",
       "      <td>1.0</td>\n",
       "      <td>0.030131</td>\n",
       "      <td>0.470170</td>\n",
       "    </tr>\n",
       "  </tbody>\n",
       "</table>\n",
       "</div>"
      ],
      "text/plain": [
       "          name      addr  postal    latlng     score\n",
       "0 1   1.000000  0.985507     1.0  1.000000  0.996047\n",
       "  2   0.896000  0.910774     1.0  1.000000  0.928393\n",
       "  32  0.520128  0.580927     1.0  0.000025  0.485770\n",
       "  33  0.556630  0.580927     1.0  0.000025  0.502362\n",
       "  35  0.505476  0.528075     1.0  0.030131  0.470170"
      ]
     },
     "execution_count": 22,
     "metadata": {},
     "output_type": "execute_result"
    }
   ],
   "source": [
    "scores = np.average(\n",
    "    comparison_vectors.values,\n",
    "    axis=1,\n",
    "    weights=[50, 30, 10, 20])\n",
    "scored_comparison_vectors = comparison_vectors.assign(score=scores)\n",
    "scored_comparison_vectors.head(5)"
   ]
  },
  {
   "cell_type": "markdown",
   "metadata": {
    "slideshow": {
     "slide_type": "slide"
    }
   },
   "source": [
    "By looking at the data, we know record `0` truly matches `1` and `2`, so we'll **classify as a match** any pair with score `>= 0.9`. That's our **threshold**:"
   ]
  },
  {
   "cell_type": "code",
   "execution_count": 23,
   "metadata": {
    "scrolled": true,
    "slideshow": {
     "slide_type": "fragment"
    }
   },
   "outputs": [
    {
     "data": {
      "text/html": [
       "<div>\n",
       "<style scoped>\n",
       "    .dataframe tbody tr th:only-of-type {\n",
       "        vertical-align: middle;\n",
       "    }\n",
       "\n",
       "    .dataframe tbody tr th {\n",
       "        vertical-align: top;\n",
       "    }\n",
       "\n",
       "    .dataframe thead th {\n",
       "        text-align: right;\n",
       "    }\n",
       "</style>\n",
       "<table border=\"1\" class=\"dataframe\">\n",
       "  <thead>\n",
       "    <tr style=\"text-align: right;\">\n",
       "      <th></th>\n",
       "      <th>name</th>\n",
       "      <th>addr</th>\n",
       "      <th>city</th>\n",
       "      <th>postal</th>\n",
       "      <th>lat</th>\n",
       "      <th>lng</th>\n",
       "    </tr>\n",
       "  </thead>\n",
       "  <tbody>\n",
       "    <tr>\n",
       "      <th>0</th>\n",
       "      <td>arnie morton s of chicago</td>\n",
       "      <td>435 s. la cienega blv.</td>\n",
       "      <td>los angeles</td>\n",
       "      <td>90048</td>\n",
       "      <td>34.070708</td>\n",
       "      <td>-118.376563</td>\n",
       "    </tr>\n",
       "    <tr>\n",
       "      <th>1</th>\n",
       "      <td>arnie morton s of chicago</td>\n",
       "      <td>435 s. la cienega blvd.</td>\n",
       "      <td>los angeles</td>\n",
       "      <td>90048</td>\n",
       "      <td>34.070708</td>\n",
       "      <td>-118.376563</td>\n",
       "    </tr>\n",
       "    <tr>\n",
       "      <th>2</th>\n",
       "      <td>arnie morton</td>\n",
       "      <td>435 s. la cienega boulevard</td>\n",
       "      <td>los angeles</td>\n",
       "      <td>90048</td>\n",
       "      <td>34.070708</td>\n",
       "      <td>-118.376563</td>\n",
       "    </tr>\n",
       "    <tr>\n",
       "      <th>3</th>\n",
       "      <td>art s delicatessen</td>\n",
       "      <td>12224 ventura blvd.</td>\n",
       "      <td>studio city</td>\n",
       "      <td>91604</td>\n",
       "      <td>34.142963</td>\n",
       "      <td>-118.399465</td>\n",
       "    </tr>\n",
       "    <tr>\n",
       "      <th>4</th>\n",
       "      <td>art s deli</td>\n",
       "      <td>12224 ventura blvd.</td>\n",
       "      <td>studio city</td>\n",
       "      <td>91604</td>\n",
       "      <td>34.142963</td>\n",
       "      <td>-118.399465</td>\n",
       "    </tr>\n",
       "  </tbody>\n",
       "</table>\n",
       "</div>"
      ],
      "text/plain": [
       "                        name                         addr         city postal  \\\n",
       "0  arnie morton s of chicago       435 s. la cienega blv.  los angeles  90048   \n",
       "1  arnie morton s of chicago      435 s. la cienega blvd.  los angeles  90048   \n",
       "2               arnie morton  435 s. la cienega boulevard  los angeles  90048   \n",
       "3         art s delicatessen          12224 ventura blvd.  studio city  91604   \n",
       "4                 art s deli          12224 ventura blvd.  studio city  91604   \n",
       "\n",
       "         lat         lng  \n",
       "0  34.070708 -118.376563  \n",
       "1  34.070708 -118.376563  \n",
       "2  34.070708 -118.376563  \n",
       "3  34.142963 -118.399465  \n",
       "4  34.142963 -118.399465  "
      ]
     },
     "execution_count": 23,
     "metadata": {},
     "output_type": "execute_result"
    }
   ],
   "source": [
    "df.head(5)"
   ]
  },
  {
   "cell_type": "code",
   "execution_count": 24,
   "metadata": {
    "slideshow": {
     "slide_type": "fragment"
    }
   },
   "outputs": [
    {
     "data": {
      "text/html": [
       "<div>\n",
       "<style scoped>\n",
       "    .dataframe tbody tr th:only-of-type {\n",
       "        vertical-align: middle;\n",
       "    }\n",
       "\n",
       "    .dataframe tbody tr th {\n",
       "        vertical-align: top;\n",
       "    }\n",
       "\n",
       "    .dataframe thead th {\n",
       "        text-align: right;\n",
       "    }\n",
       "</style>\n",
       "<table border=\"1\" class=\"dataframe\">\n",
       "  <thead>\n",
       "    <tr style=\"text-align: right;\">\n",
       "      <th></th>\n",
       "      <th></th>\n",
       "      <th>name</th>\n",
       "      <th>addr</th>\n",
       "      <th>postal</th>\n",
       "      <th>latlng</th>\n",
       "      <th>score</th>\n",
       "    </tr>\n",
       "  </thead>\n",
       "  <tbody>\n",
       "    <tr>\n",
       "      <th rowspan=\"2\" valign=\"top\">0</th>\n",
       "      <th>1</th>\n",
       "      <td>1.000000</td>\n",
       "      <td>0.985507</td>\n",
       "      <td>1.0</td>\n",
       "      <td>1.0</td>\n",
       "      <td>0.996047</td>\n",
       "    </tr>\n",
       "    <tr>\n",
       "      <th>2</th>\n",
       "      <td>0.896000</td>\n",
       "      <td>0.910774</td>\n",
       "      <td>1.0</td>\n",
       "      <td>1.0</td>\n",
       "      <td>0.928393</td>\n",
       "    </tr>\n",
       "    <tr>\n",
       "      <th>1</th>\n",
       "      <th>2</th>\n",
       "      <td>0.896000</td>\n",
       "      <td>0.923779</td>\n",
       "      <td>1.0</td>\n",
       "      <td>1.0</td>\n",
       "      <td>0.931940</td>\n",
       "    </tr>\n",
       "    <tr>\n",
       "      <th rowspan=\"2\" valign=\"top\">3</th>\n",
       "      <th>4</th>\n",
       "      <td>0.911111</td>\n",
       "      <td>1.000000</td>\n",
       "      <td>1.0</td>\n",
       "      <td>1.0</td>\n",
       "      <td>0.959596</td>\n",
       "    </tr>\n",
       "    <tr>\n",
       "      <th>5</th>\n",
       "      <td>0.911111</td>\n",
       "      <td>1.000000</td>\n",
       "      <td>1.0</td>\n",
       "      <td>1.0</td>\n",
       "      <td>0.959596</td>\n",
       "    </tr>\n",
       "  </tbody>\n",
       "</table>\n",
       "</div>"
      ],
      "text/plain": [
       "         name      addr  postal  latlng     score\n",
       "0 1  1.000000  0.985507     1.0     1.0  0.996047\n",
       "  2  0.896000  0.910774     1.0     1.0  0.928393\n",
       "1 2  0.896000  0.923779     1.0     1.0  0.931940\n",
       "3 4  0.911111  1.000000     1.0     1.0  0.959596\n",
       "  5  0.911111  1.000000     1.0     1.0  0.959596"
      ]
     },
     "execution_count": 24,
     "metadata": {},
     "output_type": "execute_result"
    }
   ],
   "source": [
    "matches = scored_comparison_vectors[\n",
    "    scored_comparison_vectors['score'] >= 0.9]\n",
    "matches.head(5)"
   ]
  },
  {
   "cell_type": "markdown",
   "metadata": {
    "slideshow": {
     "slide_type": "slide"
    }
   },
   "source": [
    "Since we have the true match status on `cluster` column, we can **evaluate** how well our threshold classification did:"
   ]
  },
  {
   "cell_type": "code",
   "execution_count": 25,
   "metadata": {
    "slideshow": {
     "slide_type": "fragment"
    }
   },
   "outputs": [
    {
     "name": "stdout",
     "output_type": "stream",
     "text": [
      "Golden pairs: 150\n"
     ]
    }
   ],
   "source": [
    "golden_pairs = Block('cluster').index(df_with_truth)\n",
    "golden_pairs = golden_pairs.swaplevel().sortlevel()[0]\n",
    "print(\"Golden pairs:\", len(golden_pairs))"
   ]
  },
  {
   "cell_type": "code",
   "execution_count": 26,
   "metadata": {
    "slideshow": {
     "slide_type": "fragment"
    }
   },
   "outputs": [
    {
     "name": "stdout",
     "output_type": "stream",
     "text": [
      "true_positives total: 128\n",
      "false_positives total: 2\n",
      "false_negatives total: 22\n"
     ]
    }
   ],
   "source": [
    "found_pairs_set = set(matches.index)\n",
    "\n",
    "golden_pairs_set = set(golden_pairs)\n",
    "\n",
    "true_positives = golden_pairs_set & found_pairs_set\n",
    "false_positives = found_pairs_set - golden_pairs_set\n",
    "false_negatives = golden_pairs_set - found_pairs_set\n",
    "\n",
    "print('true_positives total:', len(true_positives))\n",
    "print('false_positives total:', len(false_positives))\n",
    "print('false_negatives total:', len(false_negatives))"
   ]
  },
  {
   "cell_type": "markdown",
   "metadata": {
    "slideshow": {
     "slide_type": "slide"
    }
   },
   "source": [
    "We've got a small number of **false positives**. Some are really tricky cases:"
   ]
  },
  {
   "cell_type": "code",
   "execution_count": 27,
   "metadata": {
    "scrolled": true,
    "slideshow": {
     "slide_type": "fragment"
    }
   },
   "outputs": [
    {
     "name": "stdout",
     "output_type": "stream",
     "text": [
      "False positives:\n"
     ]
    },
    {
     "data": {
      "text/html": [
       "<div>\n",
       "<style scoped>\n",
       "    .dataframe tbody tr th:only-of-type {\n",
       "        vertical-align: middle;\n",
       "    }\n",
       "\n",
       "    .dataframe tbody tr th {\n",
       "        vertical-align: top;\n",
       "    }\n",
       "\n",
       "    .dataframe thead th {\n",
       "        text-align: right;\n",
       "    }\n",
       "</style>\n",
       "<table border=\"1\" class=\"dataframe\">\n",
       "  <thead>\n",
       "    <tr style=\"text-align: right;\">\n",
       "      <th></th>\n",
       "      <th>name</th>\n",
       "      <th>addr</th>\n",
       "      <th>postal</th>\n",
       "      <th>lat</th>\n",
       "      <th>lng</th>\n",
       "    </tr>\n",
       "  </thead>\n",
       "  <tbody>\n",
       "    <tr>\n",
       "      <th>196</th>\n",
       "      <td>ritz carlton cafe buckhead</td>\n",
       "      <td>3434 peachtree rd. ne</td>\n",
       "      <td>30326</td>\n",
       "      <td>33.850488</td>\n",
       "      <td>-84.363631</td>\n",
       "    </tr>\n",
       "    <tr>\n",
       "      <th>198</th>\n",
       "      <td>ritz carlton dining room buckhead</td>\n",
       "      <td>3434 peachtree rd. ne</td>\n",
       "      <td>30326</td>\n",
       "      <td>33.850488</td>\n",
       "      <td>-84.363631</td>\n",
       "    </tr>\n",
       "  </tbody>\n",
       "</table>\n",
       "</div>"
      ],
      "text/plain": [
       "                                   name                   addr postal  \\\n",
       "196         ritz carlton cafe buckhead   3434 peachtree rd. ne  30326   \n",
       "198  ritz carlton dining room buckhead   3434 peachtree rd. ne  30326   \n",
       "\n",
       "           lat        lng  \n",
       "196  33.850488 -84.363631  \n",
       "198  33.850488 -84.363631  "
      ]
     },
     "metadata": {},
     "output_type": "display_data"
    },
    {
     "data": {
      "text/html": [
       "<div>\n",
       "<style scoped>\n",
       "    .dataframe tbody tr th:only-of-type {\n",
       "        vertical-align: middle;\n",
       "    }\n",
       "\n",
       "    .dataframe tbody tr th {\n",
       "        vertical-align: top;\n",
       "    }\n",
       "\n",
       "    .dataframe thead th {\n",
       "        text-align: right;\n",
       "    }\n",
       "</style>\n",
       "<table border=\"1\" class=\"dataframe\">\n",
       "  <thead>\n",
       "    <tr style=\"text-align: right;\">\n",
       "      <th></th>\n",
       "      <th>name</th>\n",
       "      <th>addr</th>\n",
       "      <th>postal</th>\n",
       "      <th>lat</th>\n",
       "      <th>lng</th>\n",
       "    </tr>\n",
       "  </thead>\n",
       "  <tbody>\n",
       "    <tr>\n",
       "      <th>200</th>\n",
       "      <td>ritz carlton restaurant</td>\n",
       "      <td>181 peachtree st.</td>\n",
       "      <td>30303</td>\n",
       "      <td>33.758572</td>\n",
       "      <td>-84.387181</td>\n",
       "    </tr>\n",
       "    <tr>\n",
       "      <th>839</th>\n",
       "      <td>ritz carlton cafe atlanta</td>\n",
       "      <td>181 peachtree st.</td>\n",
       "      <td>30303</td>\n",
       "      <td>33.758572</td>\n",
       "      <td>-84.387181</td>\n",
       "    </tr>\n",
       "  </tbody>\n",
       "</table>\n",
       "</div>"
      ],
      "text/plain": [
       "                           name               addr postal        lat  \\\n",
       "200     ritz carlton restaurant  181 peachtree st.  30303  33.758572   \n",
       "839  ritz carlton cafe atlanta   181 peachtree st.  30303  33.758572   \n",
       "\n",
       "           lng  \n",
       "200 -84.387181  \n",
       "839 -84.387181  "
      ]
     },
     "metadata": {},
     "output_type": "display_data"
    }
   ],
   "source": [
    "print(f\"False positives:\")\n",
    "for false_positive_pair in false_positives:\n",
    "    display(df.loc[list(false_positive_pair)][['name', 'addr', 'postal', 'lat', 'lng']])"
   ]
  },
  {
   "cell_type": "markdown",
   "metadata": {
    "slideshow": {
     "slide_type": "slide"
    }
   },
   "source": [
    "On the other hand, we got a lot of **false negatives**. We've **missed** a lot of matches!"
   ]
  },
  {
   "cell_type": "code",
   "execution_count": 28,
   "metadata": {
    "scrolled": true,
    "slideshow": {
     "slide_type": "fragment"
    }
   },
   "outputs": [
    {
     "name": "stdout",
     "output_type": "stream",
     "text": [
      "False negatives (sample 10 of 22):\n"
     ]
    },
    {
     "data": {
      "text/html": [
       "<div>\n",
       "<style scoped>\n",
       "    .dataframe tbody tr th:only-of-type {\n",
       "        vertical-align: middle;\n",
       "    }\n",
       "\n",
       "    .dataframe tbody tr th {\n",
       "        vertical-align: top;\n",
       "    }\n",
       "\n",
       "    .dataframe thead th {\n",
       "        text-align: right;\n",
       "    }\n",
       "</style>\n",
       "<table border=\"1\" class=\"dataframe\">\n",
       "  <thead>\n",
       "    <tr style=\"text-align: right;\">\n",
       "      <th></th>\n",
       "      <th>name</th>\n",
       "      <th>addr</th>\n",
       "      <th>postal</th>\n",
       "      <th>lat</th>\n",
       "      <th>lng</th>\n",
       "    </tr>\n",
       "  </thead>\n",
       "  <tbody>\n",
       "    <tr>\n",
       "      <th>182</th>\n",
       "      <td>heera of india</td>\n",
       "      <td>595 piedmont ave.  rio shopping mall</td>\n",
       "      <td>30324</td>\n",
       "      <td>33.798336</td>\n",
       "      <td>-84.371044</td>\n",
       "    </tr>\n",
       "    <tr>\n",
       "      <th>183</th>\n",
       "      <td>heera of india</td>\n",
       "      <td>595 piedmont ave.</td>\n",
       "      <td>30308</td>\n",
       "      <td>33.770298</td>\n",
       "      <td>-84.381122</td>\n",
       "    </tr>\n",
       "  </tbody>\n",
       "</table>\n",
       "</div>"
      ],
      "text/plain": [
       "               name                                  addr postal        lat  \\\n",
       "182  heera of india  595 piedmont ave.  rio shopping mall  30324  33.798336   \n",
       "183  heera of india                     595 piedmont ave.  30308  33.770298   \n",
       "\n",
       "           lng  \n",
       "182 -84.371044  \n",
       "183 -84.381122  "
      ]
     },
     "metadata": {},
     "output_type": "display_data"
    },
    {
     "data": {
      "text/html": [
       "<div>\n",
       "<style scoped>\n",
       "    .dataframe tbody tr th:only-of-type {\n",
       "        vertical-align: middle;\n",
       "    }\n",
       "\n",
       "    .dataframe tbody tr th {\n",
       "        vertical-align: top;\n",
       "    }\n",
       "\n",
       "    .dataframe thead th {\n",
       "        text-align: right;\n",
       "    }\n",
       "</style>\n",
       "<table border=\"1\" class=\"dataframe\">\n",
       "  <thead>\n",
       "    <tr style=\"text-align: right;\">\n",
       "      <th></th>\n",
       "      <th>name</th>\n",
       "      <th>addr</th>\n",
       "      <th>postal</th>\n",
       "      <th>lat</th>\n",
       "      <th>lng</th>\n",
       "    </tr>\n",
       "  </thead>\n",
       "  <tbody>\n",
       "    <tr>\n",
       "      <th>164</th>\n",
       "      <td>abruzzi</td>\n",
       "      <td>2355 peachtree rd.  peachtree battle shopping ...</td>\n",
       "      <td>30305</td>\n",
       "      <td>33.819818</td>\n",
       "      <td>-84.386643</td>\n",
       "    </tr>\n",
       "    <tr>\n",
       "      <th>165</th>\n",
       "      <td>abruzzi</td>\n",
       "      <td>2355 peachtree rd. ne</td>\n",
       "      <td>30305</td>\n",
       "      <td>33.819166</td>\n",
       "      <td>-84.387518</td>\n",
       "    </tr>\n",
       "  </tbody>\n",
       "</table>\n",
       "</div>"
      ],
      "text/plain": [
       "        name                                               addr postal  \\\n",
       "164  abruzzi  2355 peachtree rd.  peachtree battle shopping ...  30305   \n",
       "165  abruzzi                              2355 peachtree rd. ne  30305   \n",
       "\n",
       "           lat        lng  \n",
       "164  33.819818 -84.386643  \n",
       "165  33.819166 -84.387518  "
      ]
     },
     "metadata": {},
     "output_type": "display_data"
    },
    {
     "data": {
      "text/html": [
       "<div>\n",
       "<style scoped>\n",
       "    .dataframe tbody tr th:only-of-type {\n",
       "        vertical-align: middle;\n",
       "    }\n",
       "\n",
       "    .dataframe tbody tr th {\n",
       "        vertical-align: top;\n",
       "    }\n",
       "\n",
       "    .dataframe thead th {\n",
       "        text-align: right;\n",
       "    }\n",
       "</style>\n",
       "<table border=\"1\" class=\"dataframe\">\n",
       "  <thead>\n",
       "    <tr style=\"text-align: right;\">\n",
       "      <th></th>\n",
       "      <th>name</th>\n",
       "      <th>addr</th>\n",
       "      <th>postal</th>\n",
       "      <th>lat</th>\n",
       "      <th>lng</th>\n",
       "    </tr>\n",
       "  </thead>\n",
       "  <tbody>\n",
       "    <tr>\n",
       "      <th>28</th>\n",
       "      <td>restaurant katsu</td>\n",
       "      <td>1972 n. hillhurst ave.</td>\n",
       "      <td>90027</td>\n",
       "      <td>34.107403</td>\n",
       "      <td>-118.287172</td>\n",
       "    </tr>\n",
       "    <tr>\n",
       "      <th>29</th>\n",
       "      <td>katsu</td>\n",
       "      <td>1972 hillhurst ave.</td>\n",
       "      <td>90027</td>\n",
       "      <td>34.107403</td>\n",
       "      <td>-118.287172</td>\n",
       "    </tr>\n",
       "  </tbody>\n",
       "</table>\n",
       "</div>"
      ],
      "text/plain": [
       "                name                    addr postal        lat         lng\n",
       "28  restaurant katsu  1972 n. hillhurst ave.  90027  34.107403 -118.287172\n",
       "29             katsu     1972 hillhurst ave.  90027  34.107403 -118.287172"
      ]
     },
     "metadata": {},
     "output_type": "display_data"
    },
    {
     "data": {
      "text/html": [
       "<div>\n",
       "<style scoped>\n",
       "    .dataframe tbody tr th:only-of-type {\n",
       "        vertical-align: middle;\n",
       "    }\n",
       "\n",
       "    .dataframe tbody tr th {\n",
       "        vertical-align: top;\n",
       "    }\n",
       "\n",
       "    .dataframe thead th {\n",
       "        text-align: right;\n",
       "    }\n",
       "</style>\n",
       "<table border=\"1\" class=\"dataframe\">\n",
       "  <thead>\n",
       "    <tr style=\"text-align: right;\">\n",
       "      <th></th>\n",
       "      <th>name</th>\n",
       "      <th>addr</th>\n",
       "      <th>postal</th>\n",
       "      <th>lat</th>\n",
       "      <th>lng</th>\n",
       "    </tr>\n",
       "  </thead>\n",
       "  <tbody>\n",
       "    <tr>\n",
       "      <th>36</th>\n",
       "      <td>locanda veneta</td>\n",
       "      <td>8638 w 3rd</td>\n",
       "      <td>90048</td>\n",
       "      <td>34.073421</td>\n",
       "      <td>-118.381098</td>\n",
       "    </tr>\n",
       "    <tr>\n",
       "      <th>37</th>\n",
       "      <td>locanda</td>\n",
       "      <td>w. third st.</td>\n",
       "      <td>None</td>\n",
       "      <td>34.068947</td>\n",
       "      <td>-118.322599</td>\n",
       "    </tr>\n",
       "  </tbody>\n",
       "</table>\n",
       "</div>"
      ],
      "text/plain": [
       "              name          addr postal        lat         lng\n",
       "36  locanda veneta    8638 w 3rd  90048  34.073421 -118.381098\n",
       "37         locanda  w. third st.   None  34.068947 -118.322599"
      ]
     },
     "metadata": {},
     "output_type": "display_data"
    },
    {
     "data": {
      "text/html": [
       "<div>\n",
       "<style scoped>\n",
       "    .dataframe tbody tr th:only-of-type {\n",
       "        vertical-align: middle;\n",
       "    }\n",
       "\n",
       "    .dataframe tbody tr th {\n",
       "        vertical-align: top;\n",
       "    }\n",
       "\n",
       "    .dataframe thead th {\n",
       "        text-align: right;\n",
       "    }\n",
       "</style>\n",
       "<table border=\"1\" class=\"dataframe\">\n",
       "  <thead>\n",
       "    <tr style=\"text-align: right;\">\n",
       "      <th></th>\n",
       "      <th>name</th>\n",
       "      <th>addr</th>\n",
       "      <th>postal</th>\n",
       "      <th>lat</th>\n",
       "      <th>lng</th>\n",
       "    </tr>\n",
       "  </thead>\n",
       "  <tbody>\n",
       "    <tr>\n",
       "      <th>40</th>\n",
       "      <td>the palm</td>\n",
       "      <td>9001 santa monica blvd.</td>\n",
       "      <td>90069</td>\n",
       "      <td>34.083473</td>\n",
       "      <td>-118.387373</td>\n",
       "    </tr>\n",
       "    <tr>\n",
       "      <th>41</th>\n",
       "      <td>palm the los angeles</td>\n",
       "      <td>9001 santa monica blvd.</td>\n",
       "      <td>90069</td>\n",
       "      <td>34.083064</td>\n",
       "      <td>-118.387282</td>\n",
       "    </tr>\n",
       "  </tbody>\n",
       "</table>\n",
       "</div>"
      ],
      "text/plain": [
       "                     name                     addr postal        lat  \\\n",
       "40               the palm  9001 santa monica blvd.  90069  34.083473   \n",
       "41  palm the los angeles   9001 santa monica blvd.  90069  34.083064   \n",
       "\n",
       "           lng  \n",
       "40 -118.387373  \n",
       "41 -118.387282  "
      ]
     },
     "metadata": {},
     "output_type": "display_data"
    },
    {
     "data": {
      "text/html": [
       "<div>\n",
       "<style scoped>\n",
       "    .dataframe tbody tr th:only-of-type {\n",
       "        vertical-align: middle;\n",
       "    }\n",
       "\n",
       "    .dataframe tbody tr th {\n",
       "        vertical-align: top;\n",
       "    }\n",
       "\n",
       "    .dataframe thead th {\n",
       "        text-align: right;\n",
       "    }\n",
       "</style>\n",
       "<table border=\"1\" class=\"dataframe\">\n",
       "  <thead>\n",
       "    <tr style=\"text-align: right;\">\n",
       "      <th></th>\n",
       "      <th>name</th>\n",
       "      <th>addr</th>\n",
       "      <th>postal</th>\n",
       "      <th>lat</th>\n",
       "      <th>lng</th>\n",
       "    </tr>\n",
       "  </thead>\n",
       "  <tbody>\n",
       "    <tr>\n",
       "      <th>136</th>\n",
       "      <td>shun lee west</td>\n",
       "      <td>43 w. 65th st.</td>\n",
       "      <td>10023</td>\n",
       "      <td>40.772900</td>\n",
       "      <td>-73.981348</td>\n",
       "    </tr>\n",
       "    <tr>\n",
       "      <th>137</th>\n",
       "      <td>shun lee palace</td>\n",
       "      <td>155 e. 55th st.</td>\n",
       "      <td>10022</td>\n",
       "      <td>40.759435</td>\n",
       "      <td>-73.969072</td>\n",
       "    </tr>\n",
       "  </tbody>\n",
       "</table>\n",
       "</div>"
      ],
      "text/plain": [
       "                name             addr postal        lat        lng\n",
       "136    shun lee west   43 w. 65th st.  10023  40.772900 -73.981348\n",
       "137  shun lee palace  155 e. 55th st.  10022  40.759435 -73.969072"
      ]
     },
     "metadata": {},
     "output_type": "display_data"
    },
    {
     "data": {
      "text/html": [
       "<div>\n",
       "<style scoped>\n",
       "    .dataframe tbody tr th:only-of-type {\n",
       "        vertical-align: middle;\n",
       "    }\n",
       "\n",
       "    .dataframe tbody tr th {\n",
       "        vertical-align: top;\n",
       "    }\n",
       "\n",
       "    .dataframe thead th {\n",
       "        text-align: right;\n",
       "    }\n",
       "</style>\n",
       "<table border=\"1\" class=\"dataframe\">\n",
       "  <thead>\n",
       "    <tr style=\"text-align: right;\">\n",
       "      <th></th>\n",
       "      <th>name</th>\n",
       "      <th>addr</th>\n",
       "      <th>postal</th>\n",
       "      <th>lat</th>\n",
       "      <th>lng</th>\n",
       "    </tr>\n",
       "  </thead>\n",
       "  <tbody>\n",
       "    <tr>\n",
       "      <th>34</th>\n",
       "      <td>locanda veneta</td>\n",
       "      <td>3rd st.</td>\n",
       "      <td>None</td>\n",
       "      <td>34.009031</td>\n",
       "      <td>-118.488174</td>\n",
       "    </tr>\n",
       "    <tr>\n",
       "      <th>35</th>\n",
       "      <td>locanda veneta</td>\n",
       "      <td>8638 w. third st.</td>\n",
       "      <td>90048</td>\n",
       "      <td>34.073421</td>\n",
       "      <td>-118.381098</td>\n",
       "    </tr>\n",
       "  </tbody>\n",
       "</table>\n",
       "</div>"
      ],
      "text/plain": [
       "              name               addr postal        lat         lng\n",
       "34  locanda veneta            3rd st.   None  34.009031 -118.488174\n",
       "35  locanda veneta  8638 w. third st.  90048  34.073421 -118.381098"
      ]
     },
     "metadata": {},
     "output_type": "display_data"
    },
    {
     "data": {
      "text/html": [
       "<div>\n",
       "<style scoped>\n",
       "    .dataframe tbody tr th:only-of-type {\n",
       "        vertical-align: middle;\n",
       "    }\n",
       "\n",
       "    .dataframe tbody tr th {\n",
       "        vertical-align: top;\n",
       "    }\n",
       "\n",
       "    .dataframe thead th {\n",
       "        text-align: right;\n",
       "    }\n",
       "</style>\n",
       "<table border=\"1\" class=\"dataframe\">\n",
       "  <thead>\n",
       "    <tr style=\"text-align: right;\">\n",
       "      <th></th>\n",
       "      <th>name</th>\n",
       "      <th>addr</th>\n",
       "      <th>postal</th>\n",
       "      <th>lat</th>\n",
       "      <th>lng</th>\n",
       "    </tr>\n",
       "  </thead>\n",
       "  <tbody>\n",
       "    <tr>\n",
       "      <th>110</th>\n",
       "      <td>mesa grill</td>\n",
       "      <td>102 5th ave.  between 15th and 16th sts.</td>\n",
       "      <td>10001</td>\n",
       "      <td>40.748441</td>\n",
       "      <td>-73.985664</td>\n",
       "    </tr>\n",
       "    <tr>\n",
       "      <th>111</th>\n",
       "      <td>mesa grill</td>\n",
       "      <td>102 fifth ave.</td>\n",
       "      <td>10011</td>\n",
       "      <td>40.737045</td>\n",
       "      <td>-73.993119</td>\n",
       "    </tr>\n",
       "  </tbody>\n",
       "</table>\n",
       "</div>"
      ],
      "text/plain": [
       "           name                                      addr postal        lat  \\\n",
       "110  mesa grill  102 5th ave.  between 15th and 16th sts.  10001  40.748441   \n",
       "111  mesa grill                            102 fifth ave.  10011  40.737045   \n",
       "\n",
       "           lng  \n",
       "110 -73.985664  \n",
       "111 -73.993119  "
      ]
     },
     "metadata": {},
     "output_type": "display_data"
    },
    {
     "data": {
      "text/html": [
       "<div>\n",
       "<style scoped>\n",
       "    .dataframe tbody tr th:only-of-type {\n",
       "        vertical-align: middle;\n",
       "    }\n",
       "\n",
       "    .dataframe tbody tr th {\n",
       "        vertical-align: top;\n",
       "    }\n",
       "\n",
       "    .dataframe thead th {\n",
       "        text-align: right;\n",
       "    }\n",
       "</style>\n",
       "<table border=\"1\" class=\"dataframe\">\n",
       "  <thead>\n",
       "    <tr style=\"text-align: right;\">\n",
       "      <th></th>\n",
       "      <th>name</th>\n",
       "      <th>addr</th>\n",
       "      <th>postal</th>\n",
       "      <th>lat</th>\n",
       "      <th>lng</th>\n",
       "    </tr>\n",
       "  </thead>\n",
       "  <tbody>\n",
       "    <tr>\n",
       "      <th>35</th>\n",
       "      <td>locanda veneta</td>\n",
       "      <td>8638 w. third st.</td>\n",
       "      <td>90048</td>\n",
       "      <td>34.073421</td>\n",
       "      <td>-118.381098</td>\n",
       "    </tr>\n",
       "    <tr>\n",
       "      <th>37</th>\n",
       "      <td>locanda</td>\n",
       "      <td>w. third st.</td>\n",
       "      <td>None</td>\n",
       "      <td>34.068947</td>\n",
       "      <td>-118.322599</td>\n",
       "    </tr>\n",
       "  </tbody>\n",
       "</table>\n",
       "</div>"
      ],
      "text/plain": [
       "              name               addr postal        lat         lng\n",
       "35  locanda veneta  8638 w. third st.  90048  34.073421 -118.381098\n",
       "37         locanda       w. third st.   None  34.068947 -118.322599"
      ]
     },
     "metadata": {},
     "output_type": "display_data"
    },
    {
     "data": {
      "text/html": [
       "<div>\n",
       "<style scoped>\n",
       "    .dataframe tbody tr th:only-of-type {\n",
       "        vertical-align: middle;\n",
       "    }\n",
       "\n",
       "    .dataframe tbody tr th {\n",
       "        vertical-align: top;\n",
       "    }\n",
       "\n",
       "    .dataframe thead th {\n",
       "        text-align: right;\n",
       "    }\n",
       "</style>\n",
       "<table border=\"1\" class=\"dataframe\">\n",
       "  <thead>\n",
       "    <tr style=\"text-align: right;\">\n",
       "      <th></th>\n",
       "      <th>name</th>\n",
       "      <th>addr</th>\n",
       "      <th>postal</th>\n",
       "      <th>lat</th>\n",
       "      <th>lng</th>\n",
       "    </tr>\n",
       "  </thead>\n",
       "  <tbody>\n",
       "    <tr>\n",
       "      <th>144</th>\n",
       "      <td>uncle nick s</td>\n",
       "      <td>747 9th ave.  between 50th and 51st sts.</td>\n",
       "      <td>10019</td>\n",
       "      <td>40.763835</td>\n",
       "      <td>-73.988912</td>\n",
       "    </tr>\n",
       "    <tr>\n",
       "      <th>145</th>\n",
       "      <td>uncle nick s</td>\n",
       "      <td>747 ninth ave.</td>\n",
       "      <td>10019</td>\n",
       "      <td>40.763884</td>\n",
       "      <td>-73.989002</td>\n",
       "    </tr>\n",
       "  </tbody>\n",
       "</table>\n",
       "</div>"
      ],
      "text/plain": [
       "             name                                      addr postal        lat  \\\n",
       "144  uncle nick s  747 9th ave.  between 50th and 51st sts.  10019  40.763835   \n",
       "145  uncle nick s                            747 ninth ave.  10019  40.763884   \n",
       "\n",
       "           lng  \n",
       "144 -73.988912  \n",
       "145 -73.989002  "
      ]
     },
     "metadata": {},
     "output_type": "display_data"
    }
   ],
   "source": [
    "print(f\"False negatives (sample 10 of {len(false_negatives)}):\")\n",
    "for false_negative_pair in list(false_negatives)[:10]:\n",
    "    display(df.loc[list(false_negative_pair)][['name', 'addr', 'postal', 'lat', 'lng']])"
   ]
  },
  {
   "cell_type": "markdown",
   "metadata": {
    "slideshow": {
     "slide_type": "slide"
    }
   },
   "source": [
    "Bue we've set the weights and the threshold **by guessing**, could we do any better?"
   ]
  },
  {
   "cell_type": "markdown",
   "metadata": {
    "slideshow": {
     "slide_type": "slide"
    }
   },
   "source": [
    "### Supervised Classification"
   ]
  },
  {
   "cell_type": "markdown",
   "metadata": {
    "slideshow": {
     "slide_type": "slide"
    }
   },
   "source": [
    "Instead of trying to guess weights and thresholds, we can train a **classifier** to learn how to classify matches and nonmatches based on some training data we provide:"
   ]
  },
  {
   "cell_type": "code",
   "execution_count": 29,
   "metadata": {
    "scrolled": true,
    "slideshow": {
     "slide_type": "fragment"
    }
   },
   "outputs": [
    {
     "data": {
      "text/html": [
       "<div>\n",
       "<style scoped>\n",
       "    .dataframe tbody tr th:only-of-type {\n",
       "        vertical-align: middle;\n",
       "    }\n",
       "\n",
       "    .dataframe tbody tr th {\n",
       "        vertical-align: top;\n",
       "    }\n",
       "\n",
       "    .dataframe thead th {\n",
       "        text-align: right;\n",
       "    }\n",
       "</style>\n",
       "<table border=\"1\" class=\"dataframe\">\n",
       "  <thead>\n",
       "    <tr style=\"text-align: right;\">\n",
       "      <th></th>\n",
       "      <th>name</th>\n",
       "      <th>addr</th>\n",
       "      <th>city</th>\n",
       "      <th>cluster</th>\n",
       "    </tr>\n",
       "  </thead>\n",
       "  <tbody>\n",
       "    <tr>\n",
       "      <th>0</th>\n",
       "      <td>locanda veneta</td>\n",
       "      <td>3rd st.</td>\n",
       "      <td>los angeles</td>\n",
       "      <td>13</td>\n",
       "    </tr>\n",
       "    <tr>\n",
       "      <th>1</th>\n",
       "      <td>locanda veneta</td>\n",
       "      <td>8638 w. third st.</td>\n",
       "      <td>los angeles</td>\n",
       "      <td>13</td>\n",
       "    </tr>\n",
       "    <tr>\n",
       "      <th>2</th>\n",
       "      <td>locanda veneta</td>\n",
       "      <td>8638 w 3rd</td>\n",
       "      <td>st los angeles</td>\n",
       "      <td>13</td>\n",
       "    </tr>\n",
       "    <tr>\n",
       "      <th>3</th>\n",
       "      <td>cafe lalo</td>\n",
       "      <td>201 w. 83rd st.</td>\n",
       "      <td>new york</td>\n",
       "      <td>26</td>\n",
       "    </tr>\n",
       "    <tr>\n",
       "      <th>4</th>\n",
       "      <td>cafe lalo</td>\n",
       "      <td>201 w. 83rd st.</td>\n",
       "      <td>new york city</td>\n",
       "      <td>26</td>\n",
       "    </tr>\n",
       "    <tr>\n",
       "      <th>5</th>\n",
       "      <td>les celebrites</td>\n",
       "      <td>160 central park s</td>\n",
       "      <td>new york</td>\n",
       "      <td>42</td>\n",
       "    </tr>\n",
       "    <tr>\n",
       "      <th>6</th>\n",
       "      <td>les celebrites</td>\n",
       "      <td>155 w. 58th st.</td>\n",
       "      <td>new york city</td>\n",
       "      <td>42</td>\n",
       "    </tr>\n",
       "    <tr>\n",
       "      <th>7</th>\n",
       "      <td>second avenue deli</td>\n",
       "      <td>156 2nd ave. at 10th st.</td>\n",
       "      <td>new york</td>\n",
       "      <td>58</td>\n",
       "    </tr>\n",
       "    <tr>\n",
       "      <th>8</th>\n",
       "      <td>second avenue deli</td>\n",
       "      <td>156 second ave.</td>\n",
       "      <td>new york city</td>\n",
       "      <td>58</td>\n",
       "    </tr>\n",
       "    <tr>\n",
       "      <th>9</th>\n",
       "      <td>smith &amp; wollensky</td>\n",
       "      <td>201 e. 49th st.</td>\n",
       "      <td>new york</td>\n",
       "      <td>62</td>\n",
       "    </tr>\n",
       "    <tr>\n",
       "      <th>10</th>\n",
       "      <td>smith &amp; wollensky</td>\n",
       "      <td>797 third ave.</td>\n",
       "      <td>new york city</td>\n",
       "      <td>62</td>\n",
       "    </tr>\n",
       "    <tr>\n",
       "      <th>11</th>\n",
       "      <td>chin's</td>\n",
       "      <td>3200 las vegas blvd. s</td>\n",
       "      <td>las vegas</td>\n",
       "      <td>67</td>\n",
       "    </tr>\n",
       "    <tr>\n",
       "      <th>12</th>\n",
       "      <td>chin's</td>\n",
       "      <td>3200 las vegas blvd. s.</td>\n",
       "      <td>las vegas</td>\n",
       "      <td>67</td>\n",
       "    </tr>\n",
       "    <tr>\n",
       "      <th>13</th>\n",
       "      <td>toulouse</td>\n",
       "      <td>b peachtree rd.</td>\n",
       "      <td>atlanta</td>\n",
       "      <td>92</td>\n",
       "    </tr>\n",
       "    <tr>\n",
       "      <th>14</th>\n",
       "      <td>toulouse</td>\n",
       "      <td>293-b peachtree rd.</td>\n",
       "      <td>atlanta</td>\n",
       "      <td>92</td>\n",
       "    </tr>\n",
       "    <tr>\n",
       "      <th>15</th>\n",
       "      <td>rose pistola</td>\n",
       "      <td>532 columbus ave.</td>\n",
       "      <td>san francisco</td>\n",
       "      <td>111</td>\n",
       "    </tr>\n",
       "    <tr>\n",
       "      <th>16</th>\n",
       "      <td>rose pistola</td>\n",
       "      <td>532 columbus ave.</td>\n",
       "      <td>san francisco</td>\n",
       "      <td>111</td>\n",
       "    </tr>\n",
       "    <tr>\n",
       "      <th>17</th>\n",
       "      <td>bistro garden</td>\n",
       "      <td>176 n. canon dr.</td>\n",
       "      <td>los angeles</td>\n",
       "      <td>115</td>\n",
       "    </tr>\n",
       "    <tr>\n",
       "      <th>18</th>\n",
       "      <td>remi</td>\n",
       "      <td>3rd st. promenade</td>\n",
       "      <td>santa monica</td>\n",
       "      <td>159</td>\n",
       "    </tr>\n",
       "    <tr>\n",
       "      <th>19</th>\n",
       "      <td>remi</td>\n",
       "      <td>145 w. 53rd st.</td>\n",
       "      <td>new york</td>\n",
       "      <td>334</td>\n",
       "    </tr>\n",
       "    <tr>\n",
       "      <th>20</th>\n",
       "      <td>west</td>\n",
       "      <td>63rd street steakhouse 44 w. 63rd st.</td>\n",
       "      <td>new york</td>\n",
       "      <td>375</td>\n",
       "    </tr>\n",
       "    <tr>\n",
       "      <th>21</th>\n",
       "      <td>bistro</td>\n",
       "      <td>3400 las vegas blvd. s</td>\n",
       "      <td>las vegas</td>\n",
       "      <td>429</td>\n",
       "    </tr>\n",
       "    <tr>\n",
       "      <th>22</th>\n",
       "      <td>mikado</td>\n",
       "      <td>3400 las vegas blvd. s</td>\n",
       "      <td>las vegas</td>\n",
       "      <td>446</td>\n",
       "    </tr>\n",
       "    <tr>\n",
       "      <th>23</th>\n",
       "      <td>l'osteria del forno</td>\n",
       "      <td>519 columbus ave.</td>\n",
       "      <td>san francisco</td>\n",
       "      <td>490</td>\n",
       "    </tr>\n",
       "    <tr>\n",
       "      <th>24</th>\n",
       "      <td>stars</td>\n",
       "      <td>150 redwood alley</td>\n",
       "      <td>san francisco</td>\n",
       "      <td>514</td>\n",
       "    </tr>\n",
       "    <tr>\n",
       "      <th>25</th>\n",
       "      <td>stars cafe</td>\n",
       "      <td>500 van ness ave.</td>\n",
       "      <td>san francisco</td>\n",
       "      <td>515</td>\n",
       "    </tr>\n",
       "    <tr>\n",
       "      <th>26</th>\n",
       "      <td>belvedere  the</td>\n",
       "      <td>9882 little santa monica blvd.</td>\n",
       "      <td>beverly hills</td>\n",
       "      <td>537</td>\n",
       "    </tr>\n",
       "    <tr>\n",
       "      <th>27</th>\n",
       "      <td>bernard's</td>\n",
       "      <td>515 s. olive st.</td>\n",
       "      <td>los angeles</td>\n",
       "      <td>539</td>\n",
       "    </tr>\n",
       "    <tr>\n",
       "      <th>28</th>\n",
       "      <td>bistro 45</td>\n",
       "      <td>45 s. mentor ave.</td>\n",
       "      <td>pasadena</td>\n",
       "      <td>540</td>\n",
       "    </tr>\n",
       "    <tr>\n",
       "      <th>29</th>\n",
       "      <td>cafe '50s</td>\n",
       "      <td>838 lincoln blvd.</td>\n",
       "      <td>venice</td>\n",
       "      <td>545</td>\n",
       "    </tr>\n",
       "    <tr>\n",
       "      <th>30</th>\n",
       "      <td>cafe blanc</td>\n",
       "      <td>9777 little santa monica blvd.</td>\n",
       "      <td>beverly hills</td>\n",
       "      <td>546</td>\n",
       "    </tr>\n",
       "    <tr>\n",
       "      <th>31</th>\n",
       "      <td>la cachette</td>\n",
       "      <td>10506 little santa monica blvd.</td>\n",
       "      <td>century city</td>\n",
       "      <td>568</td>\n",
       "    </tr>\n",
       "    <tr>\n",
       "      <th>32</th>\n",
       "      <td>moongate</td>\n",
       "      <td>3400 las vegas blvd. s.</td>\n",
       "      <td>las vegas</td>\n",
       "      <td>666</td>\n",
       "    </tr>\n",
       "  </tbody>\n",
       "</table>\n",
       "</div>"
      ],
      "text/plain": [
       "                   name                                   addr  \\\n",
       "0        locanda veneta                                3rd st.   \n",
       "1        locanda veneta                      8638 w. third st.   \n",
       "2        locanda veneta                             8638 w 3rd   \n",
       "3             cafe lalo                        201 w. 83rd st.   \n",
       "4             cafe lalo                        201 w. 83rd st.   \n",
       "5        les celebrites                     160 central park s   \n",
       "6        les celebrites                        155 w. 58th st.   \n",
       "7    second avenue deli               156 2nd ave. at 10th st.   \n",
       "8    second avenue deli                        156 second ave.   \n",
       "9     smith & wollensky                        201 e. 49th st.   \n",
       "10    smith & wollensky                         797 third ave.   \n",
       "11               chin's                 3200 las vegas blvd. s   \n",
       "12               chin's                3200 las vegas blvd. s.   \n",
       "13             toulouse                        b peachtree rd.   \n",
       "14             toulouse                    293-b peachtree rd.   \n",
       "15         rose pistola                      532 columbus ave.   \n",
       "16         rose pistola                      532 columbus ave.   \n",
       "17        bistro garden                       176 n. canon dr.   \n",
       "18                 remi                      3rd st. promenade   \n",
       "19                 remi                        145 w. 53rd st.   \n",
       "20                 west  63rd street steakhouse 44 w. 63rd st.   \n",
       "21               bistro                 3400 las vegas blvd. s   \n",
       "22               mikado                 3400 las vegas blvd. s   \n",
       "23  l'osteria del forno                      519 columbus ave.   \n",
       "24                stars                      150 redwood alley   \n",
       "25           stars cafe                      500 van ness ave.   \n",
       "26       belvedere  the         9882 little santa monica blvd.   \n",
       "27            bernard's                       515 s. olive st.   \n",
       "28            bistro 45                      45 s. mentor ave.   \n",
       "29            cafe '50s                      838 lincoln blvd.   \n",
       "30           cafe blanc         9777 little santa monica blvd.   \n",
       "31          la cachette        10506 little santa monica blvd.   \n",
       "32             moongate                3400 las vegas blvd. s.   \n",
       "\n",
       "              city  cluster  \n",
       "0      los angeles       13  \n",
       "1      los angeles       13  \n",
       "2   st los angeles       13  \n",
       "3         new york       26  \n",
       "4    new york city       26  \n",
       "5         new york       42  \n",
       "6    new york city       42  \n",
       "7         new york       58  \n",
       "8    new york city       58  \n",
       "9         new york       62  \n",
       "10   new york city       62  \n",
       "11       las vegas       67  \n",
       "12       las vegas       67  \n",
       "13         atlanta       92  \n",
       "14         atlanta       92  \n",
       "15   san francisco      111  \n",
       "16   san francisco      111  \n",
       "17     los angeles      115  \n",
       "18    santa monica      159  \n",
       "19        new york      334  \n",
       "20        new york      375  \n",
       "21       las vegas      429  \n",
       "22       las vegas      446  \n",
       "23   san francisco      490  \n",
       "24   san francisco      514  \n",
       "25   san francisco      515  \n",
       "26   beverly hills      537  \n",
       "27     los angeles      539  \n",
       "28        pasadena      540  \n",
       "29          venice      545  \n",
       "30   beverly hills      546  \n",
       "31    century city      568  \n",
       "32       las vegas      666  "
      ]
     },
     "execution_count": 29,
     "metadata": {},
     "output_type": "execute_result"
    }
   ],
   "source": [
    "df_training = pd.read_csv('restaurant-training.csv', skip_blank_lines=True)\n",
    "df_training = df_training.drop(columns=['type', 'phone'])\n",
    "df_training"
   ]
  },
  {
   "cell_type": "markdown",
   "metadata": {
    "slideshow": {
     "slide_type": "slide"
    }
   },
   "source": [
    "We need to **preprocess** our training data too:"
   ]
  },
  {
   "cell_type": "code",
   "execution_count": 30,
   "metadata": {
    "scrolled": true,
    "slideshow": {
     "slide_type": "fragment"
    }
   },
   "outputs": [
    {
     "data": {
      "text/html": [
       "<div>\n",
       "<style scoped>\n",
       "    .dataframe tbody tr th:only-of-type {\n",
       "        vertical-align: middle;\n",
       "    }\n",
       "\n",
       "    .dataframe tbody tr th {\n",
       "        vertical-align: top;\n",
       "    }\n",
       "\n",
       "    .dataframe thead th {\n",
       "        text-align: right;\n",
       "    }\n",
       "</style>\n",
       "<table border=\"1\" class=\"dataframe\">\n",
       "  <thead>\n",
       "    <tr style=\"text-align: right;\">\n",
       "      <th></th>\n",
       "      <th>name</th>\n",
       "      <th>addr</th>\n",
       "      <th>city</th>\n",
       "      <th>cluster</th>\n",
       "      <th>postal</th>\n",
       "      <th>lat</th>\n",
       "      <th>lng</th>\n",
       "    </tr>\n",
       "  </thead>\n",
       "  <tbody>\n",
       "    <tr>\n",
       "      <th>0</th>\n",
       "      <td>locanda veneta</td>\n",
       "      <td>3rd st.</td>\n",
       "      <td>los angeles</td>\n",
       "      <td>13</td>\n",
       "      <td>None</td>\n",
       "      <td>34.009031</td>\n",
       "      <td>-118.488174</td>\n",
       "    </tr>\n",
       "    <tr>\n",
       "      <th>1</th>\n",
       "      <td>locanda veneta</td>\n",
       "      <td>8638 w. third st.</td>\n",
       "      <td>los angeles</td>\n",
       "      <td>13</td>\n",
       "      <td>90048</td>\n",
       "      <td>34.073421</td>\n",
       "      <td>-118.381098</td>\n",
       "    </tr>\n",
       "    <tr>\n",
       "      <th>2</th>\n",
       "      <td>locanda veneta</td>\n",
       "      <td>8638 w 3rd</td>\n",
       "      <td>st los angeles</td>\n",
       "      <td>13</td>\n",
       "      <td>90048</td>\n",
       "      <td>34.073421</td>\n",
       "      <td>-118.381098</td>\n",
       "    </tr>\n",
       "    <tr>\n",
       "      <th>3</th>\n",
       "      <td>cafe lalo</td>\n",
       "      <td>201 w. 83rd st.</td>\n",
       "      <td>new york</td>\n",
       "      <td>26</td>\n",
       "      <td>10024</td>\n",
       "      <td>40.785981</td>\n",
       "      <td>-73.976727</td>\n",
       "    </tr>\n",
       "    <tr>\n",
       "      <th>4</th>\n",
       "      <td>cafe lalo</td>\n",
       "      <td>201 w. 83rd st.</td>\n",
       "      <td>new york city</td>\n",
       "      <td>26</td>\n",
       "      <td>10024</td>\n",
       "      <td>40.785981</td>\n",
       "      <td>-73.976727</td>\n",
       "    </tr>\n",
       "  </tbody>\n",
       "</table>\n",
       "</div>"
      ],
      "text/plain": [
       "             name               addr            city  cluster postal  \\\n",
       "0  locanda veneta            3rd st.     los angeles       13   None   \n",
       "1  locanda veneta  8638 w. third st.     los angeles       13  90048   \n",
       "2  locanda veneta         8638 w 3rd  st los angeles       13  90048   \n",
       "3       cafe lalo    201 w. 83rd st.        new york       26  10024   \n",
       "4       cafe lalo    201 w. 83rd st.   new york city       26  10024   \n",
       "\n",
       "         lat         lng  \n",
       "0  34.009031 -118.488174  \n",
       "1  34.073421 -118.381098  \n",
       "2  34.073421 -118.381098  \n",
       "3  40.785981  -73.976727  \n",
       "4  40.785981  -73.976727  "
      ]
     },
     "execution_count": 30,
     "metadata": {},
     "output_type": "execute_result"
    }
   ],
   "source": [
    "df_training = assign_no_symbols_name(df_training)\n",
    "df_training = assign_postal_lat_lng(df_training)\n",
    "df_training.head(5)"
   ]
  },
  {
   "cell_type": "markdown",
   "metadata": {
    "slideshow": {
     "slide_type": "slide"
    }
   },
   "source": [
    "We'll feed a **Support Vector Machine classifier** with our training data. SVMs are good for deduplication because they:\n",
    "- Are resilient to noise\n",
    "- Can handle correlated features (like 'addr' and 'latlng')\n",
    "- Are robust to imbalanced training sets (and that's natural on deduplication projects) [3]"
   ]
  },
  {
   "cell_type": "code",
   "execution_count": 31,
   "metadata": {
    "slideshow": {
     "slide_type": "slide"
    }
   },
   "outputs": [
    {
     "name": "stdout",
     "output_type": "stream",
     "text": [
      "WARNING:recordlinkage:indexing - performance warning - A full index can result in large number of record pairs.\n"
     ]
    }
   ],
   "source": [
    "all_training_pairs = Full().index(df_training)\n",
    "matches_training_pairs = Block('cluster').index(df_training)\n",
    "\n",
    "training_vectors = comp.compute(all_training_pairs, df_training)\n",
    "\n",
    "svm = rl.SVMClassifier()\n",
    "svm.fit(training_vectors, matches_training_pairs);"
   ]
  },
  {
   "cell_type": "code",
   "execution_count": 32,
   "metadata": {
    "slideshow": {
     "slide_type": "slide"
    }
   },
   "outputs": [
    {
     "name": "stdout",
     "output_type": "stream",
     "text": [
      "true_positives total: 128\n",
      "false_positives total: 2\n",
      "false_negatives total: 22\n",
      "\n",
      "svm_true_positives total: 133\n",
      "svm_false_positives total: 3\n",
      "svm_false_negatives total: 17\n"
     ]
    }
   ],
   "source": [
    "svm_pairs = svm.predict(comparison_vectors)\n",
    "svm_found_pairs_set = set(svm_pairs)\n",
    "\n",
    "svm_true_positives = golden_pairs_set & svm_found_pairs_set\n",
    "svm_false_positives = svm_found_pairs_set - golden_pairs_set\n",
    "svm_false_negatives = golden_pairs_set - svm_found_pairs_set\n",
    "\n",
    "print('true_positives total:', len(true_positives))\n",
    "print('false_positives total:', len(false_positives))\n",
    "print('false_negatives total:', len(false_negatives))\n",
    "print()\n",
    "print('svm_true_positives total:', len(svm_true_positives))\n",
    "print('svm_false_positives total:', len(svm_false_positives))\n",
    "print('svm_false_negatives total:', len(svm_false_negatives))"
   ]
  },
  {
   "cell_type": "markdown",
   "metadata": {
    "slideshow": {
     "slide_type": "slide"
    }
   },
   "source": [
    "There are [other classifiers](https://recordlinkage.readthedocs.io/en/stable/notebooks/classifiers.html) from recordlinkage library we could try, but the truth is:\n",
    "- It's **very difficult to build a good training set** that takes in account all important cases of matches/nonmatches;\n",
    "- And we're not even sure **if the indexing rules we used are really sane**. We could be:\n",
    "  * missing matches due blocking\n",
    "  * introducing mismatches due blocking + forgiving classifier"
   ]
  },
  {
   "cell_type": "markdown",
   "metadata": {
    "slideshow": {
     "slide_type": "slide"
    }
   },
   "source": [
    "The **alternative** to that uncertainty is...\n",
    "\n",
    "### Active Learning Classification"
   ]
  },
  {
   "cell_type": "markdown",
   "metadata": {
    "slideshow": {
     "slide_type": "slide"
    }
   },
   "source": [
    "Active Learning methods identify **training examples** that \"lead to maximal accuracy improvements\" [3], to train both:\n",
    "- optimal **classifier weights**\n",
    "- optimal **indexing/blocking rules**"
   ]
  },
  {
   "cell_type": "markdown",
   "metadata": {
    "slideshow": {
     "slide_type": "slide"
    }
   },
   "source": [
    "A Python library called [**Dedupe**](https://docs.dedupe.io/en/latest/index.html) implements that. Let's see it in practice:"
   ]
  },
  {
   "cell_type": "code",
   "execution_count": 33,
   "metadata": {
    "slideshow": {
     "slide_type": "skip"
    }
   },
   "outputs": [],
   "source": [
    "import logging; logging.disable(level=logging.NOTSET)"
   ]
  },
  {
   "cell_type": "code",
   "execution_count": 34,
   "metadata": {
    "slideshow": {
     "slide_type": "fragment"
    }
   },
   "outputs": [],
   "source": [
    "from svm_dedupe import SVMDedupe\n",
    "import dedupe\n",
    "\n",
    "fields = [\n",
    "    {\n",
    "        'field': 'name',\n",
    "        'variable name': 'name',\n",
    "        'type': 'JaroWinkler',\n",
    "    },\n",
    "    {\n",
    "        'field': 'addr',\n",
    "        'variable name': 'addr',\n",
    "        'type': 'JaroWinkler',\n",
    "    },\n",
    "    {\n",
    "        'field': 'postal',\n",
    "        'variable name': 'postal',\n",
    "        'type': 'JaroWinkler'\n",
    "    },\n",
    "    {\n",
    "        'field': 'latlng',\n",
    "        'variable name': 'latlng',\n",
    "        'type': 'ExpLatLong'\n",
    "    },\n",
    "]\n",
    "\n",
    "deduper = SVMDedupe(fields)"
   ]
  },
  {
   "cell_type": "code",
   "execution_count": 35,
   "metadata": {
    "slideshow": {
     "slide_type": "skip"
    }
   },
   "outputs": [],
   "source": [
    "settings_filename = 'dedupe-pycon-us-2020-settings.pickle'\n",
    "if os.path.exists(settings_filename):\n",
    "    with open(settings_filename, 'rb') as sf:\n",
    "        deduper = dedupe.StaticDedupe(sf, num_cores=4)"
   ]
  },
  {
   "cell_type": "markdown",
   "metadata": {
    "slideshow": {
     "slide_type": "skip"
    }
   },
   "source": [
    "We need to **adapt** the data a bit to the format Dedupe wants:"
   ]
  },
  {
   "cell_type": "code",
   "execution_count": 36,
   "metadata": {
    "slideshow": {
     "slide_type": "skip"
    }
   },
   "outputs": [],
   "source": [
    "data_for_dedupe = df.assign(cluster=df_with_truth['cluster']).to_dict('index')\n",
    "for record in data_for_dedupe.values():\n",
    "    # Change nans to None\n",
    "    for k, v in record.items():\n",
    "        if isinstance(v, float) and np.isnan(v):\n",
    "            record[k] = None\n",
    "    \n",
    "    # Move lat and lng to a single field latlng\n",
    "    lat = record.pop('lat')\n",
    "    lng = record.pop('lng')\n",
    "    if lat is not None and lng is not None:\n",
    "        record['latlng'] = (lat, lng)\n",
    "    else:\n",
    "        record['latlng'] = None"
   ]
  },
  {
   "cell_type": "markdown",
   "metadata": {
    "slideshow": {
     "slide_type": "slide"
    }
   },
   "source": [
    "We train Dedupe by **labeling** the examples of matches and nonmatches it asks us:"
   ]
  },
  {
   "cell_type": "code",
   "execution_count": 37,
   "metadata": {
    "slideshow": {
     "slide_type": "fragment"
    }
   },
   "outputs": [
    {
     "name": "stdout",
     "output_type": "stream",
     "text": [
      "name : philippe the original\n",
      "addr : 1001 north alameda\n",
      "postal : 90012\n",
      "latlng : (34.059721, -118.237025)\n",
      "\n",
      "name : pisces\n",
      "addr : 95 ave. a\n",
      "postal : 10009\n",
      "latlng : (40.7256332, -73.984031)\n",
      "\n",
      "0/10 positive, 0/10 negative\n",
      "Do these records refer to the same thing?\n",
      "(y)es / (n)o / (u)nsure / (f)inished\n",
      "n\n",
      "\n",
      "name : philippe the original\n",
      "addr : 1001 n. alameda st.\n",
      "postal : 90012\n",
      "latlng : (34.059721, -118.237025)\n",
      "\n",
      "name : mon kee seafood restaurant\n",
      "addr : 679 n. spring st.\n",
      "postal : 90012\n",
      "latlng : (34.0595568, -118.2382488)\n",
      "\n",
      "0/10 positive, 1/10 negative\n",
      "Do these records refer to the same thing?\n",
      "(y)es / (n)o / (u)nsure / (f)inished\n",
      "n\n",
      "\n",
      "name : caffe vivaldi\n",
      "addr : 32 jones st. at bleecker st.\n",
      "postal : 10014\n",
      "latlng : (40.7317316, -74.00298049999999)\n",
      "\n",
      "name : patria\n",
      "addr : 250 park ave. s at 20th st.\n",
      "postal : 10003\n",
      "latlng : (40.7382552, -73.988214)\n",
      "\n",
      "0/10 positive, 2/10 negative\n",
      "Do these records refer to the same thing?\n",
      "(y)es / (n)o / (u)nsure / (f)inished\n",
      "n\n",
      "\n",
      "name : i trulli\n",
      "addr : 122 e. 27th st.  between lexington and park aves.\n",
      "postal : 10028\n",
      "latlng : (40.77961699999999, -73.95631999999999)\n",
      "\n",
      "name : otabe\n",
      "addr : 68 e. 56th st.\n",
      "postal : 10022\n",
      "latlng : (40.7611775, -73.9720541)\n",
      "\n",
      "0/10 positive, 3/10 negative\n",
      "Do these records refer to the same thing?\n",
      "(y)es / (n)o / (u)nsure / (f)inished\n",
      "n\n",
      "\n",
      "name : viva mercado s\n",
      "addr : 6182 w. flamingo rd.\n",
      "postal : 89103\n",
      "latlng : (36.1149027, -115.2269398)\n",
      "\n",
      "name : cafe con leche\n",
      "addr : 424 amsterdam ave.\n",
      "postal : 10024\n",
      "latlng : (40.7841454, -73.9778061)\n",
      "\n",
      "0/10 positive, 4/10 negative\n",
      "Do these records refer to the same thing?\n",
      "(y)es / (n)o / (u)nsure / (f)inished\n",
      "n\n",
      "\n",
      "name : faz\n",
      "addr : 161 sutter st.\n",
      "postal : 94104\n",
      "latlng : (37.78973999999999, -122.4032937)\n",
      "\n",
      "name : splendido embarcadero\n",
      "addr : 4\n",
      "postal : None\n",
      "latlng : (37.7779649, -122.3962019)\n",
      "\n",
      "0/10 positive, 5/10 negative\n",
      "Do these records refer to the same thing?\n",
      "(y)es / (n)o / (u)nsure / (f)inished\n",
      "n\n",
      "\n",
      "name : le bernardin\n",
      "addr : 155 w. 51st st.\n",
      "postal : 10019\n",
      "latlng : (40.7615691, -73.98180479999999)\n",
      "\n",
      "name : le bernardin\n",
      "addr : 155 w. 51st st.\n",
      "postal : 10019\n",
      "latlng : (40.7615691, -73.98180479999999)\n",
      "\n",
      "0/10 positive, 6/10 negative\n",
      "Do these records refer to the same thing?\n",
      "(y)es / (n)o / (u)nsure / (f)inished\n",
      "y\n",
      "\n",
      "name : cafe lalo\n",
      "addr : 201 w. 83rd st.\n",
      "postal : 10024\n",
      "latlng : (40.78598119999999, -73.97672659999999)\n",
      "\n",
      "name : cafe lalo\n",
      "addr : 201 w. 83rd st.\n",
      "postal : 10024\n",
      "latlng : (40.78598119999999, -73.97672659999999)\n",
      "\n",
      "1/10 positive, 6/10 negative\n",
      "Do these records refer to the same thing?\n",
      "(y)es / (n)o / (u)nsure / (f)inished\n",
      "y\n",
      "\n",
      "INFO:dedupe.training:Final predicate set:\n",
      "INFO:dedupe.training:(SimplePredicate: (fingerprint, addr), SimplePredicate: (wholeFieldPredicate, name))\n",
      "name : hi life restaurant and lounge\n",
      "addr : 1340 1st ave. at 72nd st.\n",
      "postal : 10021\n",
      "latlng : (40.7675807, -73.95580029999999)\n",
      "\n",
      "name : trattoria dell arte\n",
      "addr : 900 7th ave.  between 56th and 57th sts.\n",
      "postal : 10106\n",
      "latlng : (40.7654454, -73.9805358)\n",
      "\n",
      "2/10 positive, 6/10 negative\n",
      "Do these records refer to the same thing?\n",
      "(y)es / (n)o / (u)nsure / (f)inished\n",
      "n\n",
      "\n",
      "name : lattanzi ristorante\n",
      "addr : 361 w. 46th st.\n",
      "postal : 10036\n",
      "latlng : (40.7608494, -73.990016)\n",
      "\n",
      "name : pomaire\n",
      "addr : 371 w. 46th st.  off 9th ave.\n",
      "postal : 10036\n",
      "latlng : (40.7609632, -73.9902681)\n",
      "\n",
      "2/10 positive, 7/10 negative\n",
      "Do these records refer to the same thing?\n",
      "(y)es / (n)o / (u)nsure / (f)inished\n",
      "n\n",
      "\n",
      "name : empire korea\n",
      "addr : 6 e. 32nd st.\n",
      "postal : 10016\n",
      "latlng : (40.7465392, -73.9849772)\n",
      "\n",
      "name : tu lan\n",
      "addr : 8 sixth st.\n",
      "postal : 94103\n",
      "latlng : (37.7818759, -122.41013)\n",
      "\n",
      "2/10 positive, 8/10 negative\n",
      "Do these records refer to the same thing?\n",
      "(y)es / (n)o / (u)nsure / (f)inished\n",
      "n\n",
      "\n",
      "name : aquavit\n",
      "addr : 13 w. 54th st.\n",
      "postal : 10019\n",
      "latlng : (40.7616767, -73.976345)\n",
      "\n",
      "name : aquavit\n",
      "addr : 13 w. 54th st.\n",
      "postal : 10019\n",
      "latlng : (40.7616767, -73.976345)\n",
      "\n",
      "2/10 positive, 9/10 negative\n",
      "Do these records refer to the same thing?\n",
      "(y)es / (n)o / (u)nsure / (f)inished\n",
      "y\n",
      "\n",
      "name : mesa grill\n",
      "addr : 102 5th ave.  between 15th and 16th sts.\n",
      "postal : 10011\n",
      "latlng : (40.7370445, -73.9931189)\n",
      "\n",
      "name : fiorello s roman cafe\n",
      "addr : 1900 broadway  between 63rd and 64th sts.\n",
      "postal : 10023\n",
      "latlng : (40.7715867, -73.98138519999999)\n",
      "\n",
      "3/10 positive, 9/10 negative\n",
      "Do these records refer to the same thing?\n",
      "(y)es / (n)o / (u)nsure / (f)inished\n",
      "n\n",
      "\n",
      "name : second avenue deli\n",
      "addr : 156 2nd ave. at 10th st.\n",
      "postal : 10003\n",
      "latlng : (40.7296096, -73.9867012)\n",
      "\n",
      "name : second avenue deli\n",
      "addr : 156 second ave.\n",
      "postal : 10003\n",
      "latlng : (40.7296096, -73.9867012)\n",
      "\n",
      "3/10 positive, 10/10 negative\n",
      "Do these records refer to the same thing?\n",
      "(y)es / (n)o / (u)nsure / (f)inished\n",
      "y\n",
      "\n",
      "name : second street grill\n",
      "addr : 200 e. fremont st.\n",
      "postal : 89101\n",
      "latlng : (36.1709271, -115.1431516)\n",
      "\n",
      "name : paty s\n",
      "addr : 10001 riverside dr.\n",
      "postal : 91602\n",
      "latlng : (34.1524376, -118.3496191)\n",
      "\n",
      "4/10 positive, 10/10 negative\n",
      "Do these records refer to the same thing?\n",
      "(y)es / (n)o / (u)nsure / (f)inished\n",
      "n\n",
      "\n",
      "INFO:dedupe.training:Final predicate set:\n",
      "INFO:dedupe.training:(SimplePredicate: (firstIntegerPredicate, addr), SimplePredicate: (wholeFieldPredicate, name))\n",
      "name : cafe ritz carlton buckhead\n",
      "addr : 3434 peachtree rd.\n",
      "postal : 30326\n",
      "latlng : (33.8508073, -84.364227)\n",
      "\n",
      "name : ritz carlton cafe buckhead \n",
      "addr : 3434 peachtree rd. ne\n",
      "postal : 30326\n",
      "latlng : (33.8508073, -84.364227)\n",
      "\n",
      "4/10 positive, 11/10 negative\n",
      "Do these records refer to the same thing?\n",
      "(y)es / (n)o / (u)nsure / (f)inished\n",
      "y\n",
      "\n",
      "INFO:dedupe.training:Final predicate set:\n",
      "INFO:dedupe.training:(SimplePredicate: (fingerprint, name), SimplePredicate: (firstIntegerPredicate, addr))\n",
      "name : le colonial\n",
      "addr : 149 e. 57th st.\n",
      "postal : 10022\n",
      "latlng : (40.7608569, -73.9683494)\n",
      "\n",
      "name : cassell s\n",
      "addr : 3266 w. sixth st.\n",
      "postal : 90020\n",
      "latlng : (34.0634809, -118.2936285)\n",
      "\n",
      "5/10 positive, 11/10 negative\n",
      "Do these records refer to the same thing?\n",
      "(y)es / (n)o / (u)nsure / (f)inished\n",
      "n\n",
      "\n",
      "name : cafe ritz carlton buckhead\n",
      "...\n"
     ]
    }
   ],
   "source": [
    "#     deduper.sample(data_for_dedupe)  \n",
    "#     dedupe.consoleLabel(deduper)\n",
    "#     deduper.train(index_predicates=False)\n",
    "\n",
    "with open('training-simple-input-output.txt') as t:\n",
    "    print('\\n'.join(t.read().split('\\n')[:262]))\n",
    "    print('...')"
   ]
  },
  {
   "cell_type": "markdown",
   "metadata": {
    "slideshow": {
     "slide_type": "skip"
    }
   },
   "source": [
    "You can check the full training at `training-simple-input-output.txt`.\n",
    "\n",
    "If you want to train it yourself, do a `rm dedupe-simple-settings.pickle dedupe-simple-training.json` and run this whole Active Learning session again."
   ]
  },
  {
   "cell_type": "code",
   "execution_count": 38,
   "metadata": {
    "slideshow": {
     "slide_type": "skip"
    }
   },
   "outputs": [],
   "source": [
    "from dedupe.convenience import unique\n",
    "\n",
    "def auto_label(deduper):\n",
    "    # based on: dedupe.convenience.consoleLabel\n",
    "    fields = unique(field.field\n",
    "                    for field\n",
    "                    in deduper.data_model.primary_fields)\n",
    "    n_match = 0\n",
    "    n_distinct = 0\n",
    "    buffer_len = 1\n",
    "    examples_buffer = []\n",
    "    uncertain_pairs = []\n",
    "    \n",
    "    while n_match < 12 or n_distinct < 20:\n",
    "        if not uncertain_pairs:\n",
    "            uncertain_pairs = deduper.uncertainPairs()\n",
    "        record_pair = uncertain_pairs.pop()\n",
    "        \n",
    "        n_match = (len(deduper.training_pairs['match']) +\n",
    "                   sum(label == 'match' for _, label in examples_buffer))\n",
    "        n_distinct = (len(deduper.training_pairs['distinct']) +\n",
    "                      sum(label == 'distinct' for _, label in examples_buffer))\n",
    "        \n",
    "        for pair in record_pair:\n",
    "            for field in fields:\n",
    "                line = \"%s : %s\" % (field, pair[field])\n",
    "                print(line)\n",
    "            print()\n",
    "        print(f\"{n_match}/10 positive, {n_distinct}/10 negative\")\n",
    "        print(\"Do these records refer to the same thing?\")\n",
    "        print(\"(y)es / (n)o / (u)nsure / (f)inished\")\n",
    "        \n",
    "        if record_pair[0]['cluster'] == record_pair[1]['cluster']:\n",
    "            print('y')\n",
    "            examples_buffer.insert(0, (record_pair, 'match'))\n",
    "        else:\n",
    "            print('n')\n",
    "            examples_buffer.insert(0, (record_pair, 'distinct'))\n",
    "        print()\n",
    "\n",
    "        if len(examples_buffer) > buffer_len:\n",
    "            record_pair, label = examples_buffer.pop()\n",
    "            if label in ['distinct', 'match']:\n",
    "                examples = {'distinct': [], 'match': []}\n",
    "                examples[label].append(record_pair)\n",
    "                deduper.markPairs(examples)\n",
    "    \n",
    "    for record_pair, label in examples_buffer:\n",
    "        if label in ['distinct', 'match']:\n",
    "            examples = {'distinct': [], 'match': []}\n",
    "            examples[label].append(record_pair)\n",
    "            deduper.markPairs(examples)"
   ]
  },
  {
   "cell_type": "code",
   "execution_count": 39,
   "metadata": {
    "scrolled": true,
    "slideshow": {
     "slide_type": "skip"
    }
   },
   "outputs": [
    {
     "name": "stderr",
     "output_type": "stream",
     "text": [
      "INFO:dedupe.training:Final predicate set:\n",
      "INFO:dedupe.training:(SimplePredicate: (twoGramFingerprint, addr), SimplePredicate: (wholeFieldPredicate, name))\n",
      "INFO:dedupe.api:reading training from file\n",
      "INFO:dedupe.training:Final predicate set:\n",
      "INFO:dedupe.training:(TfidfNGramCanopyPredicate: (0.2, postal), TfidfNGramCanopyPredicate: (0.8, name))\n",
      "INFO:dedupe.training:(LevenshteinCanopyPredicate: (2, addr), SimplePredicate: (sameFiveCharStartPredicate, name))\n"
     ]
    },
    {
     "name": "stdout",
     "output_type": "stream",
     "text": [
      "name : arnie morton s of chicago\n",
      "addr : 435 s. la cienega blv.\n",
      "postal : 90048\n",
      "latlng : (34.0707083, -118.3765626)\n",
      "\n",
      "name : arnie morton\n",
      "addr : 435 s. la cienega boulevard\n",
      "postal : 90048\n",
      "latlng : (34.0707083, -118.3765626)\n",
      "\n",
      "13/10 positive, 23/10 negative\n",
      "Do these records refer to the same thing?\n",
      "(y)es / (n)o / (u)nsure / (f)inished\n",
      "y\n",
      "\n"
     ]
    },
    {
     "name": "stderr",
     "output_type": "stream",
     "text": [
      "INFO:dedupe.training:Final predicate set:\n",
      "INFO:dedupe.training:(TfidfNGramCanopyPredicate: (0.2, postal), TfidfNGramCanopyPredicate: (0.8, name))\n",
      "INFO:dedupe.training:(SimplePredicate: (sameFiveCharStartPredicate, name), TfidfNGramCanopyPredicate: (0.8, addr))\n",
      "INFO:dedupe.training:Final predicate set:\n",
      "INFO:dedupe.training:(SimplePredicate: (sameFiveCharStartPredicate, name), SimplePredicate: (sameThreeCharStartPredicate, addr))\n",
      "INFO:dedupe.training:(SimplePredicate: (latLongGridPredicate, latlng), SimplePredicate: (oneGramFingerprint, name))\n"
     ]
    }
   ],
   "source": [
    "if not isinstance(deduper, dedupe.StaticDedupe):\n",
    "    deduper.sample(data_for_dedupe)\n",
    "    \n",
    "    training_filename = 'dedupe-simple-training.json'\n",
    "    if os.path.exists(training_filename):\n",
    "        with open(training_filename) as tf:\n",
    "            deduper.readTraining(tf)\n",
    "\n",
    "#     dedupe.consoleLabel(deduper)\n",
    "    auto_label(deduper)\n",
    "    \n",
    "    with open(training_filename, 'w') as tf:\n",
    "        deduper.writeTraining(tf)\n",
    "    \n",
    "    deduper.train(index_predicates=False)\n",
    "    \n",
    "    with open(settings_filename, 'wb') as sf:\n",
    "        deduper.writeSettings(sf)"
   ]
  },
  {
   "cell_type": "markdown",
   "metadata": {
    "slideshow": {
     "slide_type": "slide"
    }
   },
   "source": [
    "After training, we can see which **blocking predicates** (indexing rules) the deduper learned from our training input. It's good to do that to check if we trained enough:"
   ]
  },
  {
   "cell_type": "code",
   "execution_count": 40,
   "metadata": {
    "slideshow": {
     "slide_type": "fragment"
    }
   },
   "outputs": [
    {
     "data": {
      "text/plain": [
       "((SimplePredicate: (sameFiveCharStartPredicate, name),\n",
       "  SimplePredicate: (sameThreeCharStartPredicate, addr)),\n",
       " (SimplePredicate: (latLongGridPredicate, latlng),\n",
       "  SimplePredicate: (oneGramFingerprint, name)))"
      ]
     },
     "execution_count": 40,
     "metadata": {},
     "output_type": "execute_result"
    }
   ],
   "source": [
    "deduper.predicates"
   ]
  },
  {
   "cell_type": "markdown",
   "metadata": {
    "slideshow": {
     "slide_type": "skip"
    }
   },
   "source": [
    "The deduper selected those predicates from this extense list of **possible predicates**:"
   ]
  },
  {
   "cell_type": "code",
   "execution_count": 41,
   "metadata": {
    "scrolled": true,
    "slideshow": {
     "slide_type": "skip"
    }
   },
   "outputs": [
    {
     "data": {
      "text/plain": [
       "{LevenshteinCanopyPredicate: (1, addr),\n",
       " LevenshteinCanopyPredicate: (1, name),\n",
       " LevenshteinCanopyPredicate: (1, postal),\n",
       " LevenshteinCanopyPredicate: (2, addr),\n",
       " LevenshteinCanopyPredicate: (2, name),\n",
       " LevenshteinCanopyPredicate: (2, postal),\n",
       " LevenshteinCanopyPredicate: (3, addr),\n",
       " LevenshteinCanopyPredicate: (3, name),\n",
       " LevenshteinCanopyPredicate: (3, postal),\n",
       " LevenshteinCanopyPredicate: (4, addr),\n",
       " LevenshteinCanopyPredicate: (4, name),\n",
       " LevenshteinCanopyPredicate: (4, postal),\n",
       " SimplePredicate: (alphaNumericPredicate, addr),\n",
       " SimplePredicate: (alphaNumericPredicate, name),\n",
       " SimplePredicate: (alphaNumericPredicate, postal),\n",
       " SimplePredicate: (commonFourGram, addr),\n",
       " SimplePredicate: (commonFourGram, name),\n",
       " SimplePredicate: (commonFourGram, postal),\n",
       " SimplePredicate: (commonIntegerPredicate, addr),\n",
       " SimplePredicate: (commonIntegerPredicate, name),\n",
       " SimplePredicate: (commonIntegerPredicate, postal),\n",
       " SimplePredicate: (commonSixGram, addr),\n",
       " SimplePredicate: (commonSixGram, name),\n",
       " SimplePredicate: (commonSixGram, postal),\n",
       " SimplePredicate: (commonThreeTokens, addr),\n",
       " SimplePredicate: (commonThreeTokens, name),\n",
       " SimplePredicate: (commonThreeTokens, postal),\n",
       " SimplePredicate: (commonTwoTokens, addr),\n",
       " SimplePredicate: (commonTwoTokens, name),\n",
       " SimplePredicate: (commonTwoTokens, postal),\n",
       " SimplePredicate: (doubleMetaphone, addr),\n",
       " SimplePredicate: (doubleMetaphone, name),\n",
       " SimplePredicate: (doubleMetaphone, postal),\n",
       " SimplePredicate: (fingerprint, addr),\n",
       " SimplePredicate: (fingerprint, name),\n",
       " SimplePredicate: (fingerprint, postal),\n",
       " SimplePredicate: (firstIntegerPredicate, addr),\n",
       " SimplePredicate: (firstIntegerPredicate, name),\n",
       " SimplePredicate: (firstIntegerPredicate, postal),\n",
       " SimplePredicate: (firstTokenPredicate, addr),\n",
       " SimplePredicate: (firstTokenPredicate, name),\n",
       " SimplePredicate: (firstTokenPredicate, postal),\n",
       " SimplePredicate: (hundredIntegerPredicate, addr),\n",
       " SimplePredicate: (hundredIntegerPredicate, name),\n",
       " SimplePredicate: (hundredIntegerPredicate, postal),\n",
       " SimplePredicate: (hundredIntegersOddPredicate, addr),\n",
       " SimplePredicate: (hundredIntegersOddPredicate, name),\n",
       " SimplePredicate: (hundredIntegersOddPredicate, postal),\n",
       " SimplePredicate: (latLongGridPredicate, latlng),\n",
       " SimplePredicate: (metaphoneToken, addr),\n",
       " SimplePredicate: (metaphoneToken, name),\n",
       " SimplePredicate: (metaphoneToken, postal),\n",
       " SimplePredicate: (nearIntegersPredicate, addr),\n",
       " SimplePredicate: (nearIntegersPredicate, name),\n",
       " SimplePredicate: (nearIntegersPredicate, postal),\n",
       " SimplePredicate: (oneGramFingerprint, addr),\n",
       " SimplePredicate: (oneGramFingerprint, name),\n",
       " SimplePredicate: (oneGramFingerprint, postal),\n",
       " SimplePredicate: (sameFiveCharStartPredicate, addr),\n",
       " SimplePredicate: (sameFiveCharStartPredicate, name),\n",
       " SimplePredicate: (sameFiveCharStartPredicate, postal),\n",
       " SimplePredicate: (sameSevenCharStartPredicate, addr),\n",
       " SimplePredicate: (sameSevenCharStartPredicate, name),\n",
       " SimplePredicate: (sameSevenCharStartPredicate, postal),\n",
       " SimplePredicate: (sameThreeCharStartPredicate, addr),\n",
       " SimplePredicate: (sameThreeCharStartPredicate, name),\n",
       " SimplePredicate: (sameThreeCharStartPredicate, postal),\n",
       " SimplePredicate: (sortedAcronym, addr),\n",
       " SimplePredicate: (sortedAcronym, name),\n",
       " SimplePredicate: (sortedAcronym, postal),\n",
       " SimplePredicate: (suffixArray, addr),\n",
       " SimplePredicate: (suffixArray, name),\n",
       " SimplePredicate: (suffixArray, postal),\n",
       " SimplePredicate: (tokenFieldPredicate, addr),\n",
       " SimplePredicate: (tokenFieldPredicate, name),\n",
       " SimplePredicate: (tokenFieldPredicate, postal),\n",
       " SimplePredicate: (twoGramFingerprint, addr),\n",
       " SimplePredicate: (twoGramFingerprint, name),\n",
       " SimplePredicate: (twoGramFingerprint, postal),\n",
       " SimplePredicate: (wholeFieldPredicate, addr),\n",
       " SimplePredicate: (wholeFieldPredicate, name),\n",
       " SimplePredicate: (wholeFieldPredicate, postal),\n",
       " TfidfNGramCanopyPredicate: (0.2, addr),\n",
       " TfidfNGramCanopyPredicate: (0.2, name),\n",
       " TfidfNGramCanopyPredicate: (0.2, postal),\n",
       " TfidfNGramCanopyPredicate: (0.4, addr),\n",
       " TfidfNGramCanopyPredicate: (0.4, name),\n",
       " TfidfNGramCanopyPredicate: (0.4, postal),\n",
       " TfidfNGramCanopyPredicate: (0.6, addr),\n",
       " TfidfNGramCanopyPredicate: (0.6, name),\n",
       " TfidfNGramCanopyPredicate: (0.6, postal),\n",
       " TfidfNGramCanopyPredicate: (0.8, addr),\n",
       " TfidfNGramCanopyPredicate: (0.8, name),\n",
       " TfidfNGramCanopyPredicate: (0.8, postal)}"
      ]
     },
     "execution_count": 41,
     "metadata": {},
     "output_type": "execute_result"
    }
   ],
   "source": [
    "deduper.data_model.predicates()"
   ]
  },
  {
   "cell_type": "markdown",
   "metadata": {
    "slideshow": {
     "slide_type": "slide"
    }
   },
   "source": [
    "To proceed with the deduplication, we compute the **clustering threshold** and call the actual **match**:"
   ]
  },
  {
   "cell_type": "code",
   "execution_count": 63,
   "metadata": {
    "slideshow": {
     "slide_type": "fragment"
    }
   },
   "outputs": [],
   "source": [
    "import itertools\n",
    "\n",
    "clustered_dupes = deduper.match(data_for_dedupe, threshold=0.3)\n",
    "\n",
    "dedupe_found_pairs_set = set()\n",
    "for cluster, __ in clustered_dupes:  # we'll explain that later\n",
    "    for pair in itertools.combinations(cluster, 2):\n",
    "        dedupe_found_pairs_set.add(tuple(pair))"
   ]
  },
  {
   "cell_type": "markdown",
   "metadata": {
    "slideshow": {
     "slide_type": "slide"
    }
   },
   "source": [
    "Now we'll **evaluate** how it performed:"
   ]
  },
  {
   "cell_type": "code",
   "execution_count": 64,
   "metadata": {
    "scrolled": true,
    "slideshow": {
     "slide_type": "fragment"
    }
   },
   "outputs": [
    {
     "name": "stdout",
     "output_type": "stream",
     "text": [
      "true_positives total: 128\n",
      "false_positives total: 2\n",
      "false_negatives total: 22\n",
      "\n",
      "svm_true_positives total: 133\n",
      "svm_false_positives total: 3\n",
      "svm_false_negatives total: 17\n",
      "\n",
      "dedupe_true_positives total: 132\n",
      "dedupe_false_positives total: 1\n",
      "dedupe_false_negatives total: 18\n"
     ]
    }
   ],
   "source": [
    "dedupe_true_positives = golden_pairs_set & dedupe_found_pairs_set\n",
    "dedupe_false_positives = dedupe_found_pairs_set - golden_pairs_set\n",
    "dedupe_false_negatives = golden_pairs_set - dedupe_found_pairs_set\n",
    "\n",
    "print('true_positives total:', len(true_positives))\n",
    "print('false_positives total:', len(false_positives))\n",
    "print('false_negatives total:', len(false_negatives))\n",
    "print()\n",
    "print('svm_true_positives total:', len(svm_true_positives))\n",
    "print('svm_false_positives total:', len(svm_false_positives))\n",
    "print('svm_false_negatives total:', len(svm_false_negatives))\n",
    "print()\n",
    "print('dedupe_true_positives total:', len(dedupe_true_positives))\n",
    "print('dedupe_false_positives total:', len(dedupe_false_positives))\n",
    "print('dedupe_false_negatives total:', len(dedupe_false_negatives))"
   ]
  },
  {
   "cell_type": "markdown",
   "metadata": {
    "slideshow": {
     "slide_type": "slide"
    }
   },
   "source": [
    "## 4/4 - Clustering"
   ]
  },
  {
   "cell_type": "markdown",
   "metadata": {
    "slideshow": {
     "slide_type": "slide"
    }
   },
   "source": [
    "Using the Threshold or the SVM, we got the **matching pairs**. But what Dedupe returned to us were **clusters of matches**:"
   ]
  },
  {
   "cell_type": "code",
   "execution_count": 65,
   "metadata": {
    "slideshow": {
     "slide_type": "fragment"
    }
   },
   "outputs": [
    {
     "data": {
      "text/plain": [
       "[((0, 1, 2), array([0.90310738, 0.90188619, 0.87389357])),\n",
       " ((3, 4, 5), array([0.87616545, 0.9032992 , 0.9032992 ])),\n",
       " ((7, 8), array([0.88289738, 0.88289738])),\n",
       " ((9, 10, 11, 12), array([0.94285426, 0.94285426, 0.94285426, 0.94465816])),\n",
       " ((13, 14), (0.9419733, 0.9419733))]"
      ]
     },
     "execution_count": 65,
     "metadata": {},
     "output_type": "execute_result"
    }
   ],
   "source": [
    "clustered_dupes[:5]"
   ]
  },
  {
   "cell_type": "markdown",
   "metadata": {
    "slideshow": {
     "slide_type": "slide"
    }
   },
   "source": [
    "Dedupe went one step further on the process and **merged the matching pairs into clusters**! Why is that important? Because the following can happen:\n",
    "- We have the records `A`, `B`, and `C`\n",
    "- By deduplicating, we find:\n",
    "- `(A, B)` match\n",
    "- `(B, C)` match\n",
    "- `(A, C)` nonmatch\n",
    "- And that doesn't make sense!\n",
    "\n",
    "The solution for that ambiguity is computing the **Transitive Closure** through clustering."
   ]
  },
  {
   "cell_type": "markdown",
   "metadata": {
    "slideshow": {
     "slide_type": "slide"
    }
   },
   "source": [
    "Using some private methods from Dedupe, it's possible to get the **unclustered pairs**:"
   ]
  },
  {
   "cell_type": "code",
   "execution_count": 66,
   "metadata": {
    "slideshow": {
     "slide_type": "fragment"
    }
   },
   "outputs": [],
   "source": [
    "from dedupe.core import scoreDuplicates\n",
    "\n",
    "candidate_records = itertools.chain.from_iterable(deduper._blockedPairs(deduper._blockData(data_for_dedupe)))\n",
    "dedupe_matches = scoreDuplicates(candidate_records,\n",
    "                                 deduper.data_model,\n",
    "                                 deduper.classifier,\n",
    "                                 deduper.num_cores)\n",
    "dedupe_unclustered_pairs_score_dict = {tuple(pair): score for (pair, score) in dedupe_matches}\n",
    "dedupe_unclustered_found_pairs_set = set(dedupe_unclustered_pairs_score_dict.keys())"
   ]
  },
  {
   "cell_type": "markdown",
   "metadata": {
    "slideshow": {
     "slide_type": "slide"
    }
   },
   "source": [
    "Let's **evaluate** those unclustered pairs against the clustered pairs:"
   ]
  },
  {
   "cell_type": "code",
   "execution_count": 67,
   "metadata": {
    "slideshow": {
     "slide_type": "fragment"
    }
   },
   "outputs": [
    {
     "name": "stdout",
     "output_type": "stream",
     "text": [
      "dedupe_true_positives total: 132\n",
      "dedupe_false_positives total: 1\n",
      "dedupe_false_negatives total: 18\n",
      "\n",
      "dedupe_unclustered_true_positives total: 138\n",
      "dedupe_unclustered_false_positives total: 5\n",
      "dedupe_unclustered_false_negatives total: 12\n"
     ]
    }
   ],
   "source": [
    "dedupe_unclustered_true_positives = golden_pairs_set & dedupe_unclustered_found_pairs_set\n",
    "dedupe_unclustered_false_positives = dedupe_unclustered_found_pairs_set - golden_pairs_set\n",
    "dedupe_unclustered_false_negatives = golden_pairs_set - dedupe_unclustered_found_pairs_set\n",
    "\n",
    "print('dedupe_true_positives total:', len(dedupe_true_positives))\n",
    "print('dedupe_false_positives total:', len(dedupe_false_positives))\n",
    "print('dedupe_false_negatives total:', len(dedupe_false_negatives))\n",
    "print()\n",
    "print('dedupe_unclustered_true_positives total:', len(dedupe_unclustered_true_positives))\n",
    "print('dedupe_unclustered_false_positives total:', len(dedupe_unclustered_false_positives))\n",
    "print('dedupe_unclustered_false_negatives total:', len(dedupe_unclustered_false_negatives))"
   ]
  },
  {
   "cell_type": "markdown",
   "metadata": {
    "slideshow": {
     "slide_type": "slide"
    }
   },
   "source": [
    "Unclustered pairs `!=` Clustered pairs.\n",
    "\n",
    "Though necessary, the clustering process can both **create new matches** and **drop found matches**"
   ]
  },
  {
   "cell_type": "code",
   "execution_count": 68,
   "metadata": {
    "slideshow": {
     "slide_type": "fragment"
    }
   },
   "outputs": [
    {
     "data": {
      "text/plain": [
       "{(6, 7),\n",
       " (40, 42),\n",
       " (110, 111),\n",
       " (120, 471),\n",
       " (121, 471),\n",
       " (142, 143),\n",
       " (182, 183),\n",
       " (196, 198),\n",
       " (199, 200),\n",
       " (487, 775)}"
      ]
     },
     "metadata": {},
     "output_type": "display_data"
    }
   ],
   "source": [
    "diff_set = dedupe_found_pairs_set ^ dedupe_unclustered_found_pairs_set\n",
    "display(diff_set)"
   ]
  },
  {
   "cell_type": "code",
   "execution_count": 69,
   "metadata": {
    "scrolled": true,
    "slideshow": {
     "slide_type": "slide"
    }
   },
   "outputs": [
    {
     "data": {
      "text/html": [
       "<div>\n",
       "<style scoped>\n",
       "    .dataframe tbody tr th:only-of-type {\n",
       "        vertical-align: middle;\n",
       "    }\n",
       "\n",
       "    .dataframe tbody tr th {\n",
       "        vertical-align: top;\n",
       "    }\n",
       "\n",
       "    .dataframe thead th {\n",
       "        text-align: right;\n",
       "    }\n",
       "</style>\n",
       "<table border=\"1\" class=\"dataframe\">\n",
       "  <thead>\n",
       "    <tr style=\"text-align: right;\">\n",
       "      <th></th>\n",
       "      <th>name</th>\n",
       "      <th>addr</th>\n",
       "      <th>city</th>\n",
       "      <th>postal</th>\n",
       "      <th>lat</th>\n",
       "      <th>lng</th>\n",
       "    </tr>\n",
       "  </thead>\n",
       "  <tbody>\n",
       "    <tr>\n",
       "      <th>40</th>\n",
       "      <td>the palm</td>\n",
       "      <td>9001 santa monica blvd.</td>\n",
       "      <td>los angeles</td>\n",
       "      <td>90069</td>\n",
       "      <td>34.083473</td>\n",
       "      <td>-118.387373</td>\n",
       "    </tr>\n",
       "    <tr>\n",
       "      <th>41</th>\n",
       "      <td>palm the los angeles</td>\n",
       "      <td>9001 santa monica blvd.</td>\n",
       "      <td>w. hollywood</td>\n",
       "      <td>90069</td>\n",
       "      <td>34.083064</td>\n",
       "      <td>-118.387282</td>\n",
       "    </tr>\n",
       "    <tr>\n",
       "      <th>42</th>\n",
       "      <td>the palm los angeles</td>\n",
       "      <td>9001 sta monica boulevard</td>\n",
       "      <td>hollywood</td>\n",
       "      <td>90069</td>\n",
       "      <td>34.083064</td>\n",
       "      <td>-118.387282</td>\n",
       "    </tr>\n",
       "  </tbody>\n",
       "</table>\n",
       "</div>"
      ],
      "text/plain": [
       "                     name                       addr          city postal  \\\n",
       "40               the palm    9001 santa monica blvd.   los angeles  90069   \n",
       "41  palm the los angeles     9001 santa monica blvd.  w. hollywood  90069   \n",
       "42   the palm los angeles  9001 sta monica boulevard     hollywood  90069   \n",
       "\n",
       "          lat         lng  \n",
       "40  34.083473 -118.387373  \n",
       "41  34.083064 -118.387282  \n",
       "42  34.083064 -118.387282  "
      ]
     },
     "metadata": {},
     "output_type": "display_data"
    },
    {
     "data": {
      "image/png": "[encoded data removed]",
      "text/plain": [
       "<Figure size 720x432 with 1 Axes>"
      ]
     },
     "metadata": {},
     "output_type": "display_data"
    },
    {
     "data": {
      "image/png": "[encoded data removed]",
      "text/plain": [
       "<Figure size 720x432 with 1 Axes>"
      ]
     },
     "metadata": {},
     "output_type": "display_data"
    },
    {
     "data": {
      "image/png": "[encoded data removed]",
      "text/plain": [
       "<Figure size 720x432 with 1 Axes>"
      ]
     },
     "metadata": {},
     "output_type": "display_data"
    }
   ],
   "source": [
    "from graph_utils import show_cluster_graphs\n",
    "\n",
    "diff_ids = {40, 41, 42}\n",
    "show_cluster_graphs(\n",
    "    df,\n",
    "    golden_pairs_set, dedupe_found_pairs_set, dedupe_unclustered_found_pairs_set,\n",
    "    dedupe_unclustered_pairs_score_dict,\n",
    "    diff_ids)"
   ]
  },
  {
   "cell_type": "markdown",
   "metadata": {
    "slideshow": {
     "slide_type": "slide"
    }
   },
   "source": [
    "## Next Steps"
   ]
  },
  {
   "cell_type": "markdown",
   "metadata": {
    "slideshow": {
     "slide_type": "slide"
    }
   },
   "source": [
    "Make sure to learn about other pre-processing methods, indexing techniques, similarity functions, classifiers, etc. Check the talk **The Art and Science of Data Matching** [1] and read the book **Data Matching** [2]."
   ]
  },
  {
   "cell_type": "markdown",
   "metadata": {
    "slideshow": {
     "slide_type": "slide"
    }
   },
   "source": [
    "Once we have the clusters, how to consolidate data from many records into one? Check for material on **Data Fusion**:\n",
    "  - [Open issue at Python Record Linkage Toolkit](https://github.com/J535D165/recordlinkage/issues/27)\n",
    "  - Christen, 6.12 Merging Matches [2]"
   ]
  },
  {
   "cell_type": "markdown",
   "metadata": {
    "slideshow": {
     "slide_type": "slide"
    }
   },
   "source": [
    "What if new records arrive? Should we merge, unmerge, move records from clusters? Check for material on **Incremental Record Linkage**:\n",
    "  - Dedupe approach is to either add to an existing cluster or create a new cluster. You can use a [Gazetteer](https://docs.dedupe.io/en/latest/API-documentation.html#gazetteer-objects) with previously deduped data, then merge new matches into it, and index new nonmatches.\n",
    "  - Other approaches, check papers:\n",
    "      * [Online Correlation Clustering](https://arxiv.org/pdf/1001.0920.pdf)\n",
    "      * [Incremental Record Linkage](http://www.vldb.org/pvldb/vol7/p697-gruenheid.pdf)\n",
    "      * [Heuristic-based approaches for speeding up incremental record linkage](https://www.sciencedirect.com/science/article/pii/S0164121217302972)"
   ]
  },
  {
   "cell_type": "markdown",
   "metadata": {
    "slideshow": {
     "slide_type": "slide"
    }
   },
   "source": [
    "Also worth checking the **Privacy** implications of Record Linkage:\n",
    "- Christen, chapter 8 [2]\n",
    "- [k-anonymity](https://desfontain.es/privacy/k-anonymity.html), [k-map](https://desfontain.es/privacy/k-map.html), [δ-presence](https://desfontain.es/privacy/delta-presence.html)\n",
    "- [Why differential privacy is awesome](https://desfontain.es/privacy/differential-privacy-awesomeness.html)"
   ]
  },
  {
   "cell_type": "markdown",
   "metadata": {
    "slideshow": {
     "slide_type": "slide"
    }
   },
   "source": [
    "## References"
   ]
  },
  {
   "cell_type": "markdown",
   "metadata": {
    "slideshow": {
     "slide_type": "fragment"
    }
   },
   "source": [
    "- **Referenced** by this talk:\n",
    "    * [1] [Mike Mull, The Art and Science of Data Matching](https://www.youtube.com/watch?v=Y-nYEOgq3YE) (slides [here](https://github.com/mikemull/Notebooks/blob/master/PyDataNYCSlides.ipynb))\n",
    "    * [2] [Peter Christen, Data Matching](http://www.springer.com/us/book/9783642311635)\n",
    "    * [3] [Mikhail Yuryevich Bilenko, Learnable Similarity Functions and Their Application to Record Linkage and Clustering](http://www.cs.utexas.edu/~ml/papers/marlin-dissertation-06.pdf)\n",
    "- Other **talks** about Record Linkage with Python:\n",
    "    * [Andrew Rowe, Big Data Deduplication and data matching using Python](https://www.youtube.com/watch?v=Z6mlvrYEYnk)\n",
    "    * [Rhydwyn Mcguire, Record linkage: Join for real life](https://www.youtube.com/watch?v=cEcVIjyHfiQ)\n",
    "- [Basics of Entity Resolution with Python and Dedupe](https://medium.com/district-data-labs/basics-of-entity-resolution-with-python-and-dedupe-bc87440b64d4)\n",
    "- [Automating your Data Cleanup with Python](https://blog.kjamistan.com/automating-your-data-cleanup-with-python/)\n",
    "- [Comparison of Data Matching software](https://github.com/J535D165/data-matching-software)\n",
    "- [Compilation of Record Linkage resources](https://github.com/ropeladder/record-linkage-resources)"
   ]
  },
  {
   "cell_type": "markdown",
   "metadata": {
    "slideshow": {
     "slide_type": "slide"
    }
   },
   "source": [
    "# Thank you!\n",
    "flavio@vinta.com.br  \n",
    "[@flaviojuvenal](https://twitter.com/flaviojuvenal)  \n",
    "[vinta.com.br](https://www.vinta.com.br?dedupe-slides=1)\n",
    "\n",
    "Special thanks to Russell Keith-Magee [@freakboy3742](https://twitter.com/freakboy3742), Forest Timothy Gregg [@forestgregg](https://twitter.com/forestgregg), and Jonathan de Bruin [@J535D165](https://github.com/J535D165)."
   ]
  }
 ],
 "metadata": {
  "celltoolbar": "Slideshow",
  "kernelspec": {
   "display_name": "Python 3",
   "language": "python",
   "name": "python3"
  },
  "language_info": {
   "codemirror_mode": {
    "name": "ipython",
    "version": 3
   },
   "file_extension": ".py",
   "mimetype": "text/x-python",
   "name": "python",
   "nbconvert_exporter": "python",
   "pygments_lexer": "ipython3",
   "version": "3.7.6"
  }
 },
 "nbformat": 4,
 "nbformat_minor": 2
}
